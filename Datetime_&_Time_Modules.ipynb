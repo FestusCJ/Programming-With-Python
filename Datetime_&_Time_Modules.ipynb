{
  "nbformat": 4,
  "nbformat_minor": 0,
  "metadata": {
    "colab": {
      "name": "Datetime_&_Time_Modules.ipynb",
      "provenance": [],
      "authorship_tag": "ABX9TyMdFzMnBTTJKP4ut8pnK3rb",
      "include_colab_link": true
    },
    "kernelspec": {
      "name": "python3",
      "display_name": "Python 3"
    },
    "language_info": {
      "name": "python"
    }
  },
  "cells": [
    {
      "cell_type": "markdown",
      "metadata": {
        "id": "view-in-github",
        "colab_type": "text"
      },
      "source": [
        "<a href=\"https://colab.research.google.com/github/FestusCJ/Programming-With-Python/blob/master/Datetime_%26_Time_Modules.ipynb\" target=\"_parent\"><img src=\"https://colab.research.google.com/assets/colab-badge.svg\" alt=\"Open In Colab\"/></a>"
      ]
    },
    {
      "cell_type": "markdown",
      "source": [
        "Description\n",
        "Pythom time method strftime() converts a tuple or struct_time representing a time as returned by gmtime() or localtime() to a string as specified by the format argument.\n",
        "\n",
        "If t is not provided, the current time as returned by localtime() is used. format must be a string. An exception ValueError is raised if any field in t is outside of the allowed range.\n",
        "\n",
        "Syntax\n",
        "Following is the syntax for strftime() method −\n",
        "\n",
        "time.strftime(format[, t])\n",
        "Parameters\n",
        "t − This is the time in number of seconds to be formatted.\n",
        "\n",
        "format − This is the directive which would be used to format given time. The following directives can be embedded in the format string −\n",
        "\n",
        "Directive\n",
        "%a - abbreviated weekday name\n",
        "\n",
        "%A - full weekday name\n",
        "\n",
        "%b - abbreviated month name\n",
        "\n",
        "%B - full month name\n",
        "\n",
        "%c - preferred date and time representation\n",
        "\n",
        "%C - century number (the year divided by 100, range 00 to 99)\n",
        "\n",
        "%d - day of the month (01 to 31)\n",
        "\n",
        "%D - same as %m/%d/%y\n",
        "\n",
        "%e - day of the month (1 to 31)\n",
        "\n",
        "%g - like %G, but without the century\n",
        "\n",
        "%G - 4-digit year corresponding to the ISO week number (see %V).\n",
        "\n",
        "%h - same as %b\n",
        "\n",
        "%H - hour, using a 24-hour clock (00 to 23)\n",
        "\n",
        "%I - hour, using a 12-hour clock (01 to 12)\n",
        "\n",
        "%j - day of the year (001 to 366)\n",
        "\n",
        "%m - month (01 to 12)\n",
        "\n",
        "%M - minute\n",
        "\n",
        "%n - newline character\n",
        "\n",
        "%p - either am or pm according to the given time value\n",
        "\n",
        "%r - time in a.m. and p.m. notation\n",
        "\n",
        "%R - time in 24 hour notation\n",
        "\n",
        "%S - second\n",
        "\n",
        "%t - tab character\n",
        "\n",
        "%T - current time, equal to %H:%M:%S\n",
        "\n",
        "%u - weekday as a number (1 to 7), Monday=1. Warning: In Sun Solaris Sunday=1\n",
        "\n",
        "%U - week number of the current year, starting with the first Sunday as the first day of the first week\n",
        "\n",
        "%V - The ISO 8601 week number of the current year (01 to 53), where week 1 is the first week that has at least 4 days in the current year, and with Monday as the first day of the week\n",
        "\n",
        "%W - week number of the current year, starting with the first Monday as the first day of the first week\n",
        "\n",
        "%w - day of the week as a decimal, Sunday=0\n",
        "\n",
        "%x - preferred date representation without the time\n",
        "\n",
        "%X - preferred time representation without the date\n",
        "\n",
        "%y - year without a century (range 00 to 99)\n",
        "\n",
        "%Y - year including the century\n",
        "\n",
        "%Z or %z - time zone or name or abbreviation\n",
        "\n",
        "%% - a literal % character"
      ],
      "metadata": {
        "id": "RK5ciUXIjeIj"
      }
    },
    {
      "cell_type": "markdown",
      "source": [
        "Scenario\n",
        "\n",
        "During this course, you learned about the strftime method, which requires knowledge of directives to create a format. It's time to put the known directives into practice.\n",
        "\n",
        "By the way, you'll have the opportunity to practice working with documentation, because you'll have to find directives that you don't yet know.\n",
        "\n",
        "Here's your task:\n",
        "Write a program that creates a datetime object for November 4, 2020 , 14:53:00. The object created should call the strftime method with the appropriate format to display the following result:\n",
        "\n",
        "2020/11/04 14:53:00\n",
        "\n",
        "20/November/04 14:53:00 PM\n",
        "\n",
        "Wed, 2020 Nov 04\n",
        "\n",
        "Wednesday, 2020 November 04\n",
        "\n",
        "Weekday: 3\n",
        "\n",
        "Day of the year: 309\n",
        "\n",
        "Week number of the year: 44\n",
        "\n",
        "expected output\n",
        "\n",
        "Note: Each result line should be created by calling the strftime method with at least one directive in the format argument."
      ],
      "metadata": {
        "id": "zSajuPmZjSwa"
      }
    },
    {
      "cell_type": "code",
      "source": [
        "import time\n",
        "\n",
        "timestamp = 1604501580\n",
        "st = time.gmtime(timestamp)\n",
        "\n",
        "print(time.strftime(\"%Y/%m/%d %H:%M:%S\", st))\n",
        "print(time.strftime(\"%y/%B/%d %H:%M:%S %r\", st))\n",
        "print(time.strftime(\"%a, %Y %b %d\", st))\n",
        "print(time.strftime(\"%A, %Y %B %d\", st))\n",
        "print(time.strftime(\"Weekday: %w\", st))\n",
        "print(time.strftime(\"Day of the year: %j\", st))\n",
        "print(time.strftime(\"Week number of the year: %W\", st))"
      ],
      "metadata": {
        "colab": {
          "base_uri": "https://localhost:8080/"
        },
        "id": "wE2C1KPWj5TI",
        "outputId": "887341b1-7735-4f94-aa5f-0ec38e45c6d5"
      },
      "execution_count": 1,
      "outputs": [
        {
          "output_type": "stream",
          "name": "stdout",
          "text": [
            "2020/11/04 14:53:00\n",
            "20/November/04 14:53:00 02:53:00 PM\n",
            "Wed, 2020 Nov 04\n",
            "Wednesday, 2020 November 04\n",
            "Weekday: 3\n",
            "Day of the year: 309\n",
            "Week number of the year: 44\n"
          ]
        }
      ]
    }
  ]
}