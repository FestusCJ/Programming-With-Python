{
  "nbformat": 4,
  "nbformat_minor": 0,
  "metadata": {
    "colab": {
      "name": "Challenge_5_Dates-times.ipynb",
      "provenance": [],
      "authorship_tag": "ABX9TyNw9wYWrMASMZFKluk8xp6k",
      "include_colab_link": true
    },
    "kernelspec": {
      "name": "python3",
      "display_name": "Python 3"
    },
    "language_info": {
      "name": "python"
    }
  },
  "cells": [
    {
      "cell_type": "markdown",
      "metadata": {
        "id": "view-in-github",
        "colab_type": "text"
      },
      "source": [
        "<a href=\"https://colab.research.google.com/github/FestusCJ/Programming-With-Python/blob/master/Challenge_5_Dates_times.ipynb\" target=\"_parent\"><img src=\"https://colab.research.google.com/assets/colab-badge.svg\" alt=\"Open In Colab\"/></a>"
      ]
    },
    {
      "cell_type": "code",
      "execution_count": null,
      "metadata": {
        "id": "mmcAhi6B2HSe"
      },
      "outputs": [],
      "source": [
        "# Challenge 5 (working with dates and times)\n",
        "# Help determine how much time someone has left to meet a deadline\n",
        "#\tAsk a user to enter the deadline for their project\n",
        "#\tTell them how many days they have to complete the project\n",
        "#\tFor extra credit, give them the answer as a combination of weeks & days (Hint: you will need some of the math functions from the module on numeric values)\n",
        "\n"
      ]
    },
    {
      "cell_type": "code",
      "source": [
        "# Import the datetime library\n",
        "import datetime\n",
        "\n",
        "# Declare and initialize variables\n",
        "str_deadline = \"\"\n",
        "no_of_weeks = 0\n",
        "no_of_days = 0\n",
        "total_no_of_days = 0\n",
        "\n",
        "# Get today's date\n",
        "present_date = datetime.date.today()\n",
        "\n",
        "# Ask the user for their input\n",
        "str_deadline = input(\"Please enter your deadline in this format dd/mm/yyyy: \")\n",
        "\n",
        "deadline = datetime.datetime.strptime(str_deadline, \"%d/%m/%Y\").date()\n",
        "\n",
        "# Calculate the number days between the present date and the deadline\n",
        "total_no_of_days = deadline - present_date\n",
        "\n",
        "# Calculate the number of weeks\n",
        "no_of_weeks = total_no_of_days.days / 7\n",
        "\n",
        "# The modulo will return the remainder of the division\n",
        "# Which will tell us how many days are left \n",
        "no_of_days = total_no_of_days.days%7\n",
        "\n",
        "# display the result to the user\n",
        "print(\"You have %d weeks\" %no_of_weeks + \" and %d days \" %no_of_days + \"until your deadline.\")\n",
        "\n",
        "\n",
        "\n",
        "\n"
      ],
      "metadata": {
        "id": "DWS_gF5b949d"
      },
      "execution_count": null,
      "outputs": []
    }
  ]
}