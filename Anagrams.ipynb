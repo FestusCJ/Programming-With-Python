{
  "nbformat": 4,
  "nbformat_minor": 0,
  "metadata": {
    "colab": {
      "name": "Anagrams.ipynb",
      "provenance": [],
      "authorship_tag": "ABX9TyNyGD8u2ZjL/ZxG1D9amwMM",
      "include_colab_link": true
    },
    "kernelspec": {
      "name": "python3",
      "display_name": "Python 3"
    },
    "language_info": {
      "name": "python"
    }
  },
  "cells": [
    {
      "cell_type": "markdown",
      "metadata": {
        "id": "view-in-github",
        "colab_type": "text"
      },
      "source": [
        "<a href=\"https://colab.research.google.com/github/FestusCJ/Programming-With-Python/blob/master/Anagrams.ipynb\" target=\"_parent\"><img src=\"https://colab.research.google.com/assets/colab-badge.svg\" alt=\"Open In Colab\"/></a>"
      ]
    },
    {
      "cell_type": "markdown",
      "source": [
        "Scenario\n",
        "An anagram is a new word formed by rearranging the letters of a word, using all the original letters exactly once. For example, the phrases \"rail safety\" and \"fairy tales\" are anagrams, while \"I am\" and \"You are\" are not.\n",
        "\n",
        "Your task is to write a program which:\n",
        "\n",
        "asks the user for two separate texts;\n",
        "checks whether, the entered texts are anagrams and prints the result.\n",
        "Note:\n",
        "\n",
        "assume that two empty strings are not anagrams;\n",
        "treat upper- and lower-case letters as equal;\n",
        "spaces are not taken into account during the check - treat them as non-existent\n",
        "Test your code using the data we've provided.\n",
        "\n",
        "Test data\n",
        "Sample input:\n",
        "\n",
        "Listen\n",
        "Silent\n",
        "\n",
        "Sample output:\n",
        "\n",
        "Anagrams\n",
        "\n",
        "\n",
        "Sample input:\n",
        "\n",
        "modern\n",
        "norman\n",
        "\n",
        "Sample output:\n",
        "\n",
        "Not anagrams"
      ],
      "metadata": {
        "id": "FoL0I6ftXtc6"
      }
    },
    {
      "cell_type": "code",
      "source": [
        "try:\n",
        "    str1 = input(\"Enter the first string: \")\n",
        "    str2 = input(\"Enter the second string: \")\n",
        "\n",
        "    # this is what we're going to do with both strings:\n",
        "    # - remove spaces\n",
        "    str1 = str1.replace(\" \", \"\")\n",
        "    str2 = str2.replace(\" \", \"\")\n",
        "    # - change all letters to upper case\n",
        "    str1 = str1.upper()\n",
        "    str2 = str2.upper()\n",
        "    # - convert string into list\n",
        "    str1 = list(str1)\n",
        "    str2 = list(str2)\n",
        "    # - sort the list\n",
        "    str1.sort()\n",
        "    str2.sort()\n",
        "    # - join list's elements into string\n",
        "    print(str1)\n",
        "    str1 = \"\".join(str1)\n",
        "    str2 = \"\".join(str2)\n",
        "    # and finally, compare both strings\n",
        "    # Anagrams must have the same letters used the same amount of time\n",
        "    if str1 == str2:\n",
        "        print(\"Anagrams\")\n",
        "    else:\n",
        "        print(\"Not anagrams\")\n",
        "# Let's do it!\n",
        "except BaseException as e :\n",
        "    print(\"Note: \", e)"
      ],
      "metadata": {
        "colab": {
          "base_uri": "https://localhost:8080/"
        },
        "id": "S61PWsw1XvRg",
        "outputId": "bea2f14d-821f-4214-8eca-ca0d5822899e"
      },
      "execution_count": 2,
      "outputs": [
        {
          "output_type": "stream",
          "name": "stdout",
          "text": [
            "Enter the first string: mordern\n",
            "Enter the second string: norman\n",
            "['D', 'E', 'M', 'N', 'O', 'R', 'R']\n",
            "Not anagrams\n"
          ]
        }
      ]
    }
  ]
}