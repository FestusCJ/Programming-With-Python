{
  "nbformat": 4,
  "nbformat_minor": 0,
  "metadata": {
    "colab": {
      "name": "Hat_list.ipynb",
      "provenance": [],
      "authorship_tag": "ABX9TyNYRD5ydfdM4gO65ytAJ4cN",
      "include_colab_link": true
    },
    "kernelspec": {
      "name": "python3",
      "display_name": "Python 3"
    },
    "language_info": {
      "name": "python"
    }
  },
  "cells": [
    {
      "cell_type": "markdown",
      "metadata": {
        "id": "view-in-github",
        "colab_type": "text"
      },
      "source": [
        "<a href=\"https://colab.research.google.com/github/FestusCJ/Programming-With-Python/blob/master/Hat_list.ipynb\" target=\"_parent\"><img src=\"https://colab.research.google.com/assets/colab-badge.svg\" alt=\"Open In Colab\"/></a>"
      ]
    },
    {
      "cell_type": "code",
      "execution_count": null,
      "metadata": {
        "id": "sgfukEALREYn"
      },
      "outputs": [],
      "source": [
        "hat_list = [1, 2, 3, 4, 5]  # This is an existing list of numbers hidden in the hat.\n",
        "\n",
        "# Step 1: write a line of code that prompts the user\n",
        "# to replace the middle number with an integer number entered by the user.\n",
        "number = int(input(\"Enter a number: \"))\n",
        "hat_list[2] = number\n",
        "print(\"hat_list:\", hat_list)\n",
        "\n",
        "# Step 2: write a line of code that removes the last element from the list.\n",
        "del(hat_list[-1])\n",
        "\n",
        "# Step 3: write a line of code that prints the length of the existing list.\n",
        "print(len(hat_list))\n",
        "print(hat_list)"
      ]
    }
  ]
}