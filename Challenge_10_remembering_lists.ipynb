{
  "nbformat": 4,
  "nbformat_minor": 0,
  "metadata": {
    "colab": {
      "name": "Challenge_10_remembering_lists.ipynb",
      "provenance": [],
      "authorship_tag": "ABX9TyPYFzKCJ432y9gJfa06bTOw",
      "include_colab_link": true
    },
    "kernelspec": {
      "name": "python3",
      "display_name": "Python 3"
    },
    "language_info": {
      "name": "python"
    }
  },
  "cells": [
    {
      "cell_type": "markdown",
      "metadata": {
        "id": "view-in-github",
        "colab_type": "text"
      },
      "source": [
        "<a href=\"https://colab.research.google.com/github/FestusCJ/Programming-With-Python/blob/master/Challenge_10_remembering_lists.ipynb\" target=\"_parent\"><img src=\"https://colab.research.google.com/assets/colab-badge.svg\" alt=\"Open In Colab\"/></a>"
      ]
    },
    {
      "cell_type": "markdown",
      "source": [
        "Module 10 challenge (remembering lists)\n",
        "\n",
        "Ask the user to enter the names of everyone attending a party.\n",
        "Then return a list of the party guests in alphabetical order.\n",
        "This will require pulling together everything we have learned so far, so let’s walk through the thought process of idea to code.\n",
        "1.\tAsk the users to enter the names of everyone attending a party\n",
        "a.\tWhat command do we use to ask a user for a value?\n",
        "input function\n",
        "b.\tWhat type of variable will we need to store all the names?\n",
        "A list\n",
        "c.\tHow can I ask the user for more than one name?\n",
        "Use a loop\n",
        "2.\tPut those values in a list\n",
        "a)\tDeclare an empty list\n",
        "b)\tEach time a new name is entered, add it to the list\n",
        "3.\tSort the list\n",
        "a)\tOnce the values are in a list, use the sort function to sort the list alphabetically\n",
        "4.\tPrint the sorted list\n",
        "a)\tUse a loop to go through the values in the list\n",
        "b)\tFor each value, print the name\n"
      ],
      "metadata": {
        "id": "PZtl5XAxZ4bz"
      }
    },
    {
      "cell_type": "code",
      "execution_count": null,
      "metadata": {
        "id": "Wge8CGUYYwdD"
      },
      "outputs": [],
      "source": [
        "# declare the variables\n",
        "guest_name = \" \"\n",
        "guest_list = []\n",
        "\n",
        "#ask the user to enter the names of everyone attending a party\n",
        "while guest_name != \"none\":\n",
        "  guest_list = input(\"Plese enter the name of guest (specify 'none' if there are no more guest): \").lower()\n",
        "  #ensure the program does not capture 'none' as a guest\n",
        "  if guest_name != \"none\":\n",
        "    guest_list.append(guest_name)\n",
        "\n",
        "#exit the loop and sort guest names alphabetically\n",
        "guest_list.sort()\n",
        "\n",
        "#display the guest list\n",
        "for guest in guest_list:\n",
        "  print(guest)\n",
        "\n"
      ]
    },
    {
      "cell_type": "code",
      "source": [
        "guests = []\n",
        "name = \" \"\n",
        "\n",
        "while name != \"DONE\":\n",
        "  guests = input(\"Enter guest name (enter DONE if no more names): \")\n",
        "  if name.upper() != \"DONE\":\n",
        "      guests.append(name)\n",
        "\n",
        "guests.sort()\n",
        "for guest in guests:\n",
        "  print(guest)\n",
        "\n"
      ],
      "metadata": {
        "id": "wurkY8pNqeRj"
      },
      "execution_count": null,
      "outputs": []
    }
  ]
}