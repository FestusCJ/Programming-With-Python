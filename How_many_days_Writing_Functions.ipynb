{
  "nbformat": 4,
  "nbformat_minor": 0,
  "metadata": {
    "colab": {
      "name": "How_many_days-Writing_Functions.ipynb",
      "provenance": [],
      "authorship_tag": "ABX9TyN6PvxEXcAjP74dOYILULDZ",
      "include_colab_link": true
    },
    "kernelspec": {
      "name": "python3",
      "display_name": "Python 3"
    },
    "language_info": {
      "name": "python"
    }
  },
  "cells": [
    {
      "cell_type": "markdown",
      "metadata": {
        "id": "view-in-github",
        "colab_type": "text"
      },
      "source": [
        "<a href=\"https://colab.research.google.com/github/FestusCJ/Programming-With-Python/blob/master/How_many_days_Writing_Functions.ipynb\" target=\"_parent\"><img src=\"https://colab.research.google.com/assets/colab-badge.svg\" alt=\"Open In Colab\"/></a>"
      ]
    },
    {
      "cell_type": "markdown",
      "source": [
        "Scenario\n",
        "Your task is to write and test a function which takes two arguments (a year and a month) and returns the number of days for the given month/year pair (while only February is sensitive to the year value, your function should be universal).\n",
        "\n",
        "The initial part of the function is ready. Now, convince the function to return None if its arguments don't make sense.\n",
        "\n",
        "Of course, you can (and should) use the previously written and tested function you created for leap year. It may be very helpful. We encourage you to use a list filled with the months' lengths. You can create it inside the function - this trick will significantly shorten the code.\n"
      ],
      "metadata": {
        "id": "Ud2yjp_5Pqhp"
      }
    },
    {
      "cell_type": "code",
      "source": [
        "def is_year_leap(year):\n",
        "    leap = False\n",
        "    if (year %4 ==0) and ((year % 100 !=0) or (year % 400 ==0)):\n",
        "        leap = True\n",
        "    return leap\n",
        "def days_in_month(year, month):\n",
        "    if month in [1, 3, 5, 7, 8, 10, 12]:\n",
        "        return 31\n",
        "    elif month==2:\n",
        "        if is_year_leap(year):\n",
        "            return 29\n",
        "        else:\n",
        "            return 28\n",
        "    elif month in [4,6,8,9,11]:\n",
        "        return 30\n",
        "    else:\n",
        "        return None\n",
        "\n",
        "\n",
        "test_years = [1900, 2000, 2016, 1987, 2022]\n",
        "test_months = [2, 2, 1, 11, 6]\n",
        "test_results = [28, 29, 31, 30, 30]\n",
        "for i in range(len(test_years)):\n",
        "\tyr = test_years[i]\n",
        "\tmo = test_months[i]\n",
        "\tprint(yr, mo, \"->\", end=\"\")\n",
        "\tresult = days_in_month(yr, mo)\n",
        "\tif result == test_results[i]:\n",
        "\t\tprint(\"OK\")\n",
        "\telse:\n",
        "\t\tprint(\"Failed\")"
      ],
      "metadata": {
        "colab": {
          "base_uri": "https://localhost:8080/"
        },
        "id": "eEQGGAYuPsjX",
        "outputId": "291f98df-a37a-4931-c246-7873521691b0"
      },
      "execution_count": 1,
      "outputs": [
        {
          "output_type": "stream",
          "name": "stdout",
          "text": [
            "1900 2 ->OK\n",
            "2000 2 ->OK\n",
            "2016 1 ->OK\n",
            "1987 11 ->OK\n",
            "2022 6 ->OK\n"
          ]
        }
      ]
    }
  ]
}