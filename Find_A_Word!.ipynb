{
  "nbformat": 4,
  "nbformat_minor": 0,
  "metadata": {
    "colab": {
      "name": "Find_A_Word!.ipynb",
      "provenance": [],
      "authorship_tag": "ABX9TyM24S+A/oDzflnWNQpvMsIp",
      "include_colab_link": true
    },
    "kernelspec": {
      "name": "python3",
      "display_name": "Python 3"
    },
    "language_info": {
      "name": "python"
    }
  },
  "cells": [
    {
      "cell_type": "markdown",
      "metadata": {
        "id": "view-in-github",
        "colab_type": "text"
      },
      "source": [
        "<a href=\"https://colab.research.google.com/github/FestusCJ/Programming-With-Python/blob/master/Find_A_Word!.ipynb\" target=\"_parent\"><img src=\"https://colab.research.google.com/assets/colab-badge.svg\" alt=\"Open In Colab\"/></a>"
      ]
    },
    {
      "cell_type": "markdown",
      "source": [
        "Scenario\n",
        "Let's play a game. We will give you two strings: one being a word (e.g., \"dog\") and the second being a combination of any characters.\n",
        "\n",
        "Your task is to write a program which answers the following question: are the characters comprising the first string hidden inside the second string?\n",
        "\n",
        "For example:\n",
        "\n",
        "if the second string is given as \"vcxzxduybfdsobywuefgas\", the answer is yes;\n",
        "if the second string is \"vcxzxdcybfdstbywuefsas\", the answer is no (as there are neither the letters \"d\", \"o\", or \"g\", in this order)\n",
        "Hints:\n",
        "\n",
        "you should use the two-argument variants of the pos() functions inside your code;\n",
        "don't worry about case sensitivity.\n",
        "Test your code using the data we've provided.\n",
        "\n",
        "Test data\n",
        "Sample input:\n",
        "\n",
        "donor\n",
        "Nabucodonosor\n",
        "Sample output:\n",
        "\n",
        "Yes\n",
        "\n",
        "\n",
        "Sample input:\n",
        "\n",
        "donut\n",
        "Nabucodonosor\n",
        "Sample output:\n",
        "\n",
        "No"
      ],
      "metadata": {
        "id": "GTjS2Zzubnka"
      }
    },
    {
      "cell_type": "code",
      "source": [
        "first = input(\"Enter First String i.e. one to be searched for:\")\n",
        "second = input(\"Enter second string i.e. String to be searched\")\n",
        "strt = 0\n",
        "for i in first:\n",
        "        search2 = second.find(i, strt)\n",
        "        if search2 == -1:\n",
        "            print(\"No, It does not exist\")\n",
        "            break\n",
        "        if first[-1] == i:\n",
        "            print(\"Yes, it does exist\")"
      ],
      "metadata": {
        "colab": {
          "base_uri": "https://localhost:8080/"
        },
        "id": "Bm6lujMRbpsb",
        "outputId": "14c74f4c-3520-47e6-bc7b-80f557d11176"
      },
      "execution_count": 3,
      "outputs": [
        {
          "output_type": "stream",
          "name": "stdout",
          "text": [
            "Enter First String i.e. one to be searched for:donut\n",
            "Enter second string i.e. String to be searchednabucodonosor\n",
            "No, It does not exist\n"
          ]
        }
      ]
    }
  ]
}