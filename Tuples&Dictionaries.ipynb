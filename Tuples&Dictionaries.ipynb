{
  "nbformat": 4,
  "nbformat_minor": 0,
  "metadata": {
    "colab": {
      "name": "Tuples&Dictionaries.ipynb",
      "provenance": [],
      "authorship_tag": "ABX9TyONXOcSrDzFBunUkdw3S/Xv",
      "include_colab_link": true
    },
    "kernelspec": {
      "name": "python3",
      "display_name": "Python 3"
    },
    "language_info": {
      "name": "python"
    }
  },
  "cells": [
    {
      "cell_type": "markdown",
      "metadata": {
        "id": "view-in-github",
        "colab_type": "text"
      },
      "source": [
        "<a href=\"https://colab.research.google.com/github/FestusCJ/Programming-With-Python/blob/master/Tuples%26Dictionaries.ipynb\" target=\"_parent\"><img src=\"https://colab.research.google.com/assets/colab-badge.svg\" alt=\"Open In Colab\"/></a>"
      ]
    },
    {
      "cell_type": "markdown",
      "source": [
        "Tuples and dictionaries can work together\n",
        "We've prepared a simple example, showing how tuples and dictionaries can work together.\n",
        "\n",
        "Let's imagine the following problem:\n",
        "\n",
        "you need a program to evaluate the students' average scores;\n",
        "the program should ask for the student's name, followed by her/his single score;\n",
        "the names may be entered in any order;\n",
        "entering an empty name finishes the inputting of the data (note 1: entering an empty score will raise the ValueError exception, but don't worry about that now, you'll see how to handle such cases when we talk about exceptions in the second part of the Python Essentials course series)\n",
        "a list of all names, together with the evaluated average score, should be then emitted.\n",
        "Look at the code in the editor. This how to do it.\n",
        "\n",
        "Now, let's analyze it line by line:\n",
        "\n",
        "line 1: create an empty dictionary for the input data; the student's name is used as a key, while all the associated scores are stored in a tuple (the tuple may be a dictionary value - that's not a problem at all)\n",
        "\n",
        "line 3: enter an \"infinite\" loop (don't worry, it'll break at the right moment)\n",
        "\n",
        "line 4: read the student's name here;\n",
        "\n",
        "line 5-6: if the name is an empty string (), leave the loop;\n",
        "\n",
        "line 8: ask for one of the student's scores (an integer from the range 0-10)\n",
        "\n",
        "line 9-10: if the score entered is not within the range from 0 to 10, leave the loop;\n",
        "\n",
        "line 12-13: if the student's name is already in the dictionary, lengthen the associated tuple with the new score (note the += operator)\n",
        "\n",
        "line 14-15: if this is a new student (unknown to the dictionary), create a new entry - its value is a one-element tuple containing the entered score;\n",
        "\n",
        "line 17: iterate through the sorted students' names;\n",
        "\n",
        "line 18-19: initialize the data needed to evaluate the average (sum and counter)\n",
        "\n",
        "line 20-22: we iterate through the tuple, taking all the subsequent scores and updating the sum, together with the counter;\n",
        "\n",
        "line 23: evaluate and print the student's name and average score.\n",
        "This is a record of a conversation we had with our program:\n",
        "\n",
        "\n",
        "Enter the student's name: Bob\n",
        "Enter the student's score (0-10): 7\n",
        "Enter the student's name: Andy\n",
        "Enter the student's score (0-10): 3\n",
        "Enter the student's name: Bob\n",
        "Enter the student's score (0-10): 2\n",
        "Enter the student's name: Andy\n",
        "Enter the student's score (0-10): 10\n",
        "Enter the student's name: Andy\n",
        "Enter the student's score (0-10): 3\n",
        "Enter the student's name: Bob\n",
        "Enter the student's score (0-10): 9\n",
        "Enter the student's name:\n",
        "Andy : 5.333333333333333\n",
        "Bob : 6.0"
      ],
      "metadata": {
        "id": "EnO22TUN5qOQ"
      }
    },
    {
      "cell_type": "code",
      "execution_count": 1,
      "metadata": {
        "colab": {
          "base_uri": "https://localhost:8080/"
        },
        "id": "nD4-NBg95BLe",
        "outputId": "423d5b78-fb67-4c8b-d90b-9a7add9678bb"
      },
      "outputs": [
        {
          "output_type": "stream",
          "name": "stdout",
          "text": [
            "Enter the student's name: Bob\n",
            "Enter the student's score (0-10): 7\n",
            "Enter the student's name: Andy\n",
            "Enter the student's score (0-10): 3\n",
            "Enter the student's name: Bob\n",
            "Enter the student's score (0-10): 2\n",
            "Enter the student's name: Andy\n",
            "Enter the student's score (0-10): 10\n",
            "Enter the student's name: Andy\n",
            "Enter the student's score (0-10): 3\n",
            "Enter the student's name: Bob\n",
            "Enter the student's score (0-10): 9\n",
            "Enter the student's name: \n",
            "Andy : 5.333333333333333\n",
            "Bob : 6.0\n"
          ]
        }
      ],
      "source": [
        "school_class = {}\n",
        "\n",
        "while True:\n",
        "    name = input(\"Enter the student's name: \")\n",
        "    if name == '':\n",
        "        break\n",
        "    \n",
        "    score = int(input(\"Enter the student's score (0-10): \"))\n",
        "    if score not in range(0, 11):\n",
        "\t    break\n",
        "    \n",
        "    if name in school_class:\n",
        "        school_class[name] += (score,)\n",
        "    else:\n",
        "        school_class[name] = (score,)\n",
        "        \n",
        "for name in sorted(school_class.keys()):\n",
        "    adding = 0\n",
        "    counter = 0\n",
        "    for score in school_class[name]:\n",
        "        adding += score\n",
        "        counter += 1\n",
        "    print(name, \":\", adding / counter)\n"
      ]
    }
  ]
}