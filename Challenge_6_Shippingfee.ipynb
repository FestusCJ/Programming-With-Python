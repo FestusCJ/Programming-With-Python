{
  "nbformat": 4,
  "nbformat_minor": 0,
  "metadata": {
    "colab": {
      "name": "Challenge_6_Shippingfee.ipynb",
      "provenance": [],
      "authorship_tag": "ABX9TyMqFESfMFFkQMYwo5bxHr1t",
      "include_colab_link": true
    },
    "kernelspec": {
      "name": "python3",
      "display_name": "Python 3"
    },
    "language_info": {
      "name": "python"
    }
  },
  "cells": [
    {
      "cell_type": "markdown",
      "metadata": {
        "id": "view-in-github",
        "colab_type": "text"
      },
      "source": [
        "<a href=\"https://colab.research.google.com/github/FestusCJ/Programming-With-Python/blob/master/Challenge_6_Shippingfee.ipynb\" target=\"_parent\"><img src=\"https://colab.research.google.com/assets/colab-badge.svg\" alt=\"Open In Colab\"/></a>"
      ]
    },
    {
      "cell_type": "code",
      "execution_count": null,
      "metadata": {
        "id": "DwxOTEo_UhIy"
      },
      "outputs": [],
      "source": [
        "# Challenge 6 (making decisions with code)\n",
        "# Calculate shipping charges for a shopper\n",
        "#\tAsk the user to enter the amount for their total purchase\n",
        "#\tIf their total is under $50 add $10, otherwise shipping is free\n",
        "#\tTell the user their final total including shipping costs and format the number so it looks like a monetary value\n",
        "#\tDon’t forget to test your solution with \n",
        "#\ta value > 50\n",
        "#\ta value < 50\n",
        "#\ta value of exactly 50\n",
        "\n",
        "# Declare and initialize variable\n",
        "\n",
        "purchase = 0\n",
        "shipping_fee = 0\n",
        "Total_amount = 0\n",
        "\n",
        "# Ask the user for input\n",
        "purchase = float(input(\"Please enter your total purchase: \"))\n",
        "\n",
        "# Capture the conditions in the if else statement\n",
        "if purchase < 50:\n",
        "  shipping_fee = 10\n",
        "\n",
        "else:\n",
        "  shipping_fee = 0\n",
        "\n",
        "#Calculate the total of puchase and shipping\n",
        "Total_amount = purchase + shipping_fee\n",
        "\n",
        "# Display outut to user\n",
        "\n",
        "print(\"Your total amount including shipping is: $%.2f\" %Total_amount)\n",
        "\n",
        "\n"
      ]
    },
    {
      "cell_type": "code",
      "source": [
        ""
      ],
      "metadata": {
        "id": "fTCnNY1M3Wb4"
      },
      "execution_count": null,
      "outputs": []
    }
  ]
}