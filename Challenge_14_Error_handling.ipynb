{
  "nbformat": 4,
  "nbformat_minor": 0,
  "metadata": {
    "colab": {
      "name": "Challenge_14_Error_handling.ipynb",
      "provenance": [],
      "authorship_tag": "ABX9TyOzQjFt1P1Hbc8hRXr7QhVp",
      "include_colab_link": true
    },
    "kernelspec": {
      "name": "python3",
      "display_name": "Python 3"
    },
    "language_info": {
      "name": "python"
    }
  },
  "cells": [
    {
      "cell_type": "markdown",
      "metadata": {
        "id": "view-in-github",
        "colab_type": "text"
      },
      "source": [
        "<a href=\"https://colab.research.google.com/github/FestusCJ/Programming-With-Python/blob/master/Challenge_14_Error_handling.ipynb\" target=\"_parent\"><img src=\"https://colab.research.google.com/assets/colab-badge.svg\" alt=\"Open In Colab\"/></a>"
      ]
    },
    {
      "cell_type": "code",
      "execution_count": null,
      "metadata": {
        "id": "qBfcvCiT_rxl"
      },
      "outputs": [],
      "source": [
        "#import libraries that displays error\n",
        "import sys\n",
        "\n",
        "#Declare variables\n",
        "filename = \"\"\n",
        "fileContents = \"\"\n",
        "\n",
        "#Ask the user for the filename\n",
        "filename = input(\"Please specify the name of the file to read: \")\n",
        "\n",
        "#open the file, since you may get an error when you attempt to open the file \n",
        "#For example the file specified may not exist\n",
        "#put a try except statement around the command\n",
        "try :   \n",
        "    myFile = open(filename, \"r\")\n",
        "\n",
        "    #I am using a boolean variable to determine if the file was found\n",
        "    #That way the code will only attempt to read the file if it was found succesfully\n",
        "    fileFound = True\n",
        "\n",
        "#Handle the FileNotFoundError\n",
        "except FileNotFoundError :\n",
        "    print(\"Could not locate file \" + filename)\n",
        "    fileFound = False\n",
        "\n",
        "#Other errors could occur, perhaps the file is coorupted, or I do not have permissions on the file\n",
        "except :\n",
        "    error = sys.exc_info()\n",
        "    print(error)\n",
        "    fileFound = False\n",
        "\n",
        "#if the file was opened successfully read the contents and display the contents to the user\n",
        "if  fileFound :\n",
        "    #Get the file contents into a string\n",
        "    fileContents = myFile.read()\n",
        "    print(fileContents)\n",
        "#print the results "
      ]
    }
  ]
}