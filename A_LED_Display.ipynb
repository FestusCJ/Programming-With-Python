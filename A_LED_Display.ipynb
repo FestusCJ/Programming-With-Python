{
  "nbformat": 4,
  "nbformat_minor": 0,
  "metadata": {
    "colab": {
      "name": "A_LED_Display.ipynb",
      "provenance": [],
      "authorship_tag": "ABX9TyMBsRGdn5n9PWwPgUeK3gww",
      "include_colab_link": true
    },
    "kernelspec": {
      "name": "python3",
      "display_name": "Python 3"
    },
    "language_info": {
      "name": "python"
    }
  },
  "cells": [
    {
      "cell_type": "markdown",
      "metadata": {
        "id": "view-in-github",
        "colab_type": "text"
      },
      "source": [
        "<a href=\"https://colab.research.google.com/github/FestusCJ/Programming-With-Python/blob/master/A_LED_Display.ipynb\" target=\"_parent\"><img src=\"https://colab.research.google.com/assets/colab-badge.svg\" alt=\"Open In Colab\"/></a>"
      ]
    },
    {
      "cell_type": "markdown",
      "source": [
        "Scenario\n",
        "You've surely seen a seven-segment display.\n",
        "\n",
        "It's a device (sometimes electronic, sometimes mechanical) designed to present one decimal digit using a subset of seven segments. If you still don't know what it is, refer to the following Wikipedia article.\n",
        "\n",
        "Your task is to write a program which is able to simulate the work of a seven-display device, although you're going to use single LEDs instead of segments.\n",
        "\n",
        "Each digit is constructed from 13 LEDs (some lit, some dark, of course) - that's how we imagine it:\n",
        "\n",
        "  # ### ### # # ### ### ### ### ### ### \n",
        "  #   #   # # # #   #     # # # # # # # \n",
        "  # ### ### ### ### ###   # ### ### # # \n",
        "  # #     #   #   # # #   # # #   # # # \n",
        "  # ### ###   # ### ###   # ### ### ###\n",
        "\n",
        "Note: the number 8 shows all the LED lights on.\n",
        "\n",
        "Your code has to display any non-negative integer number entered by the user.\n",
        "\n",
        "Tip: using a list containing patterns of all ten digits may be very helpful.\n",
        "\n",
        "Test data\n",
        "Sample input:\n",
        "\n",
        "123\n",
        "\n",
        "Sample output:\n",
        "\n",
        "  # ### ### \n",
        "  #   #   # \n",
        "  # ### ### \n",
        "  # #     # \n",
        "  # ### ### \n",
        "\n",
        "Sample input:\n",
        "\n",
        "9081726354\n",
        "\n",
        "Sample output:\n",
        "\n",
        "### ### ###   # ### ### ### ### ### # # \n",
        "# # # # # #   #   #   # #     # #   # # \n",
        "### # # ###   #   # ### ### ### ### ### \n",
        "  # # # # #   #   # #   # #   #   #   # \n",
        "### ### ###   #   # ### ### ### ###   # "
      ],
      "metadata": {
        "id": "gti1qQTknCL4"
      }
    },
    {
      "cell_type": "code",
      "execution_count": 2,
      "metadata": {
        "colab": {
          "base_uri": "https://localhost:8080/"
        },
        "id": "fhld5W7TnACh",
        "outputId": "ad85fb25-a5fa-4a38-9d50-12f277c4ffdf"
      },
      "outputs": [
        {
          "output_type": "stream",
          "name": "stdout",
          "text": [
            "###  ###  ###    #  ###  ###  ###  ###  ###  # #\n",
            "# #  # #  # #    #    #    #  #      #  #    # #\n",
            "###  # #  ###    #    #  ###  ###  ###  ###  ###\n",
            "  #  # #  # #    #    #  #    # #    #    #    #\n",
            "###  ###  ###    #    #  ###  ###  ###  ###    #\n"
          ]
        }
      ],
      "source": [
        "#First, use a dictionary to hold your representations.\n",
        "#This is much more concise than having a whole bunch of variables and corresponding if statements.\n",
        "\n",
        "#Second, you will need to store each horizontal line of the 7-segment display separately, since you can only print left-to-right top-to-bottom.\n",
        "#You can assign a 5-tuple for each number for this.\n",
        "\n",
        "#Based on your input of numbers, make a list of these representations. Once you have all of them, then join them together and print line-by-line.\n",
        "\n",
        "\n",
        "representations = {\n",
        "    '0': ('###', '# #', '# #', '# #', '###'),\n",
        "    '1': ('  #', '  #', '  #', '  #', '  #'),\n",
        "    '2': ('###', '  #', '###', '#  ', '###'),\n",
        "    '3': ('###', '  #', '###', '  #', '###'),\n",
        "    '4': ('# #', '# #', '###', '  #', '  #'),\n",
        "    '5': ('###', '#  ', '###', '  #', '###'),\n",
        "    '6': ('###', '#  ', '###', '# #', '###'),\n",
        "    '7': ('###', '  #', '  #', '  #', '  #'),\n",
        "    '8': ('###', '# #', '###', '# #', '###'),\n",
        "    '9': ('###', '# #', '###', '  #', '###'),\n",
        "    '.': ('   ', '   ', '   ', '   ', '  #'),\n",
        "}\n",
        "\n",
        "def seven_segment(number):\n",
        "    # treat the number as a string, since that makes it easier to deal with\n",
        "    # on a digit-by-digit basis\n",
        "    digits = [representations[digit] for digit in str(number)]\n",
        "    # now digits is a list of 5-tuples, each representing a digit in the given number\n",
        "    # We'll print the first lines of each digit, the second lines of each digit, etc.\n",
        "    for i in range(5):\n",
        "        print(\"  \".join(segment[i] for segment in digits))\n",
        "\n",
        "\n",
        "seven_segment(9081726354)"
      ]
    }
  ]
}