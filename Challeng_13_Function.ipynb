{
  "nbformat": 4,
  "nbformat_minor": 0,
  "metadata": {
    "colab": {
      "name": "Challeng_13_Function.ipynb",
      "provenance": [],
      "authorship_tag": "ABX9TyOSkihrgqLEdCuzJ67KDZXc",
      "include_colab_link": true
    },
    "kernelspec": {
      "name": "python3",
      "display_name": "Python 3"
    },
    "language_info": {
      "name": "python"
    }
  },
  "cells": [
    {
      "cell_type": "markdown",
      "metadata": {
        "id": "view-in-github",
        "colab_type": "text"
      },
      "source": [
        "<a href=\"https://colab.research.google.com/github/FestusCJ/Programming-With-Python/blob/master/Challeng_13_Function.ipynb\" target=\"_parent\"><img src=\"https://colab.research.google.com/assets/colab-badge.svg\" alt=\"Open In Colab\"/></a>"
      ]
    },
    {
      "cell_type": "markdown",
      "source": [
        "Module 13 challenge (functions)\n",
        "\n",
        "Create a function with two parameters. \n",
        "One parameter to hold a string of text.\n",
        "One parameter to hold a filename.\n",
        "Write code in the function that will write the text to a file with the name specified.\n"
      ],
      "metadata": {
        "id": "NKrzBsj71HEa"
      }
    },
    {
      "cell_type": "code",
      "source": [
        "#declare variables\n",
        "text = \" \"\n",
        "fileName = \"file.txt\"\n",
        "accessmode = \"w\"\n",
        "\n",
        "#define the function\n",
        "def writetext(data, fileName):\n",
        "  # open the file to\n",
        "  myFile = open(fileName, accessmode)\n",
        "  #write to file\n",
        "  myFile.write(data)\n",
        "  return"
      ],
      "metadata": {
        "id": "rHtSu9ds1ewx"
      },
      "execution_count": 3,
      "outputs": []
    },
    {
      "cell_type": "code",
      "source": [
        "#alternate soloution\n",
        "def writeText(data, filename):\n",
        "    file = open(filename, mode = 'w')\n",
        "    file.write(data)\n",
        "    return\n",
        "\n",
        "writeText('Hello, world.', 'c:\\\\users\\\\chharri\\\\documents\\\\hello.txt')"
      ],
      "metadata": {
        "id": "pDL2R56j7qO0"
      },
      "execution_count": 6,
      "outputs": []
    }
  ]
}