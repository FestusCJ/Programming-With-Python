{
  "nbformat": 4,
  "nbformat_minor": 0,
  "metadata": {
    "colab": {
      "name": "Your_Own_Split.ipynb",
      "provenance": [],
      "authorship_tag": "ABX9TyPIaQAXC1y1BRd9YQjK7/uO",
      "include_colab_link": true
    },
    "kernelspec": {
      "name": "python3",
      "display_name": "Python 3"
    },
    "language_info": {
      "name": "python"
    }
  },
  "cells": [
    {
      "cell_type": "markdown",
      "metadata": {
        "id": "view-in-github",
        "colab_type": "text"
      },
      "source": [
        "<a href=\"https://colab.research.google.com/github/FestusCJ/Programming-With-Python/blob/master/Your_Own_Split.ipynb\" target=\"_parent\"><img src=\"https://colab.research.google.com/assets/colab-badge.svg\" alt=\"Open In Colab\"/></a>"
      ]
    },
    {
      "cell_type": "markdown",
      "source": [
        "Scenario\n",
        "\n",
        "You already know how split() works. Now we want you to prove it.\n",
        "\n",
        "Your task is to write your own function, which behaves almost exactly like the original split() method, i.e.:\n",
        "\n",
        "it should accept exactly one argument - a string;\n",
        "it should return a list of words created from the string, divided in the places where the string contains whitespaces;\n",
        "if the string is empty, the function should return an empty list;\n",
        "its name should be mysplit()\n",
        "Use the template in the editor. Test your code carefully.\n",
        "\n",
        "Expected output\n",
        "['To', 'be', 'or', 'not', 'to', 'be,', 'that', 'is', 'the', 'question']\n",
        "\n",
        "['To', 'be', 'or', 'not', 'to', 'be,that', 'is', 'the', 'question']\n",
        "\n",
        "[]\n",
        "\n",
        "['abc']\n",
        "\n",
        "[]"
      ],
      "metadata": {
        "id": "zAEKRXpWFaux"
      }
    },
    {
      "cell_type": "code",
      "execution_count": 1,
      "metadata": {
        "colab": {
          "base_uri": "https://localhost:8080/"
        },
        "id": "or4ZoEJFFU-A",
        "outputId": "cff40ed4-de9a-4850-a3e6-0091d782665a"
      },
      "outputs": [
        {
          "output_type": "stream",
          "name": "stdout",
          "text": [
            "['To', 'be', 'or', 'not', 'to', 'be,', 'that', 'is', 'the', 'question']\n",
            "['To', 'be', 'or', 'not', 'to', 'be,that', 'is', 'the', 'question']\n",
            "[]\n",
            "['abc']\n",
            "[]\n"
          ]
        }
      ],
      "source": [
        "def mysplit(strng):\n",
        "    A = \"\"\n",
        "    B = []\n",
        "    for i in strng:\n",
        "        if i != \" \":\n",
        "            A += i\n",
        "        else:\n",
        "            if A: # Check A is indeed a valid string\n",
        "                B.append(A)\n",
        "                A = \"\"\n",
        "\n",
        "    # After iteration is over check A contains a valid string. If so append\n",
        "    if A:\n",
        "        B.append(A)\n",
        "    return(B)\n",
        "\n",
        "print(mysplit(\"To be or not to be, that is the question\"))\n",
        "print(mysplit(\"To be or not to be,that is the question\"))\n",
        "print(mysplit(\"   \"))\n",
        "print(mysplit(\" abc \"))\n",
        "print(mysplit(\"\"))\n"
      ]
    },
    {
      "cell_type": "code",
      "source": [
        "def mysplit(strng):\n",
        "    A = \"\"\n",
        "    B = []\n",
        "    for i in strng:\n",
        "        if i != \" \":\n",
        "            A += i\n",
        "        elif A != \"\":\n",
        "            B.append(A)\n",
        "            A = \"\"\n",
        "    # Append last word\n",
        "    if A != \"\":\n",
        "        B.append(A)\n",
        "\n",
        "    return(B)\n",
        "\n",
        "\n",
        "print(mysplit(\"To be or not to be, that is the question\"))\n",
        "print(mysplit(\"To be or not to be,that is the question\"))\n",
        "print(mysplit(\"   \"))\n",
        "print(mysplit(\" abc \"))\n",
        "print(mysplit(\"\"))"
      ],
      "metadata": {
        "colab": {
          "base_uri": "https://localhost:8080/"
        },
        "id": "6pdd72wGGAqL",
        "outputId": "d5d7cbab-5db7-4e3c-b0da-625a73a2fe21"
      },
      "execution_count": 2,
      "outputs": [
        {
          "output_type": "stream",
          "name": "stdout",
          "text": [
            "['To', 'be', 'or', 'not', 'to', 'be,', 'that', 'is', 'the', 'question']\n",
            "['To', 'be', 'or', 'not', 'to', 'be,that', 'is', 'the', 'question']\n",
            "[]\n",
            "['abc']\n",
            "[]\n"
          ]
        }
      ]
    }
  ]
}