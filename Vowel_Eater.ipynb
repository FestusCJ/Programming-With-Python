{
  "nbformat": 4,
  "nbformat_minor": 0,
  "metadata": {
    "colab": {
      "name": "Vowel_Eater.ipynb",
      "provenance": [],
      "authorship_tag": "ABX9TyOaNuizcBUZ7Uq2q+ag4/yw",
      "include_colab_link": true
    },
    "kernelspec": {
      "name": "python3",
      "display_name": "Python 3"
    },
    "language_info": {
      "name": "python"
    }
  },
  "cells": [
    {
      "cell_type": "markdown",
      "metadata": {
        "id": "view-in-github",
        "colab_type": "text"
      },
      "source": [
        "<a href=\"https://colab.research.google.com/github/FestusCJ/Programming-With-Python/blob/master/Vowel_Eater.ipynb\" target=\"_parent\"><img src=\"https://colab.research.google.com/assets/colab-badge.svg\" alt=\"Open In Colab\"/></a>"
      ]
    },
    {
      "cell_type": "markdown",
      "source": [
        "Scenario\n",
        "The continue statement is used to skip the current block and move ahead to the next iteration, without executing the statements inside the loop.\n",
        "\n",
        "It can be used with both the while and for loops.\n",
        "\n",
        "Your task here is very special: you must design a vowel eater! Write a program that uses:\n",
        "\n",
        "a for loop;\n",
        "the concept of conditional execution (if-elif-else)\n",
        "the continue statement.\n",
        "Your program must:\n",
        "\n",
        "ask the user to enter a word;\n",
        "use user_word = user_word.upper() to convert the word entered by the user to upper case; we'll talk about the so-called string methods and the upper() method very soon - don't worry;\n",
        "use conditional execution and the continue statement to \"eat\" the following vowels A, E, I, O, U from the inputted word;\n",
        "print the uneaten letters to the screen, each one of them on a separate line.\n"
      ],
      "metadata": {
        "id": "lserwJzU6PS5"
      }
    },
    {
      "cell_type": "code",
      "execution_count": null,
      "metadata": {
        "id": "zUj6TwZK6CIO"
      },
      "outputs": [],
      "source": [
        "user_word = input('enter a word:')\n",
        "user_word = user_word.upper()\n",
        "\n",
        "for letter in user_word:\n",
        "    if letter in ('A','E','I','O','U'):\n",
        "        continue\n",
        "    print(letter)"
      ]
    },
    {
      "cell_type": "markdown",
      "source": [
        "Scenario\n",
        "Your task here is even more special than before: you must redesign the (ugly) vowel eater from the previous lab (3.1.2.10) and create a better, upgraded (pretty) vowel eater! Write a program that uses:\n",
        "\n",
        "a for loop;\n",
        "the concept of conditional execution (if-elif-else)\n",
        "the continue statement.\n",
        "Your program must:\n",
        "\n",
        "ask the user to enter a word;\n",
        "use user_word = user_word.upper() to convert the word entered by the user to upper case; we'll talk about the so-called string methods and the upper() method very soon - don't worry;\n",
        "use conditional execution and the continue statement to \"eat\" the following vowels A, E, I, O, U from the inputted word;\n",
        "assign the uneaten letters to the word_without_vowels variable and print the variable to the screen.\n",
        "Look at the code in the editor. We've created word_without_vowels and assigned an empty string to it. Use concatenation operation to ask Python to combine selected letters into a longer string during subsequent loop turns, and assign it to the word_without_vowels variable."
      ],
      "metadata": {
        "id": "m-jspt9J6oH_"
      }
    },
    {
      "cell_type": "code",
      "source": [
        "word_without_vowels = \"\"\n",
        "vowels = 'A', 'E', 'I', 'O', 'U'\n",
        "\n",
        "user_word = input('enter a word:')\n",
        "user_word = user_word.upper()\n",
        "\n",
        "for letter in user_word:\n",
        "    if letter in vowels:\n",
        "        continue\n",
        "    word_without_vowels += letter\n",
        "print(word_without_vowels)"
      ],
      "metadata": {
        "colab": {
          "base_uri": "https://localhost:8080/"
        },
        "id": "wx7aGsom6yhS",
        "outputId": "4a8c06cd-bfad-45c7-888f-986ec30a5aa4"
      },
      "execution_count": 5,
      "outputs": [
        {
          "output_type": "stream",
          "name": "stdout",
          "text": [
            "enter a word:gregory\n",
            "GRGRY\n"
          ]
        }
      ]
    }
  ]
}