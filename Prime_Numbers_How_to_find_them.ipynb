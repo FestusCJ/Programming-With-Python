{
  "nbformat": 4,
  "nbformat_minor": 0,
  "metadata": {
    "colab": {
      "name": "Prime_Numbers-How_to_find_them.ipynb",
      "provenance": [],
      "authorship_tag": "ABX9TyNmn2/+uxR9jcNj3KffC+yS",
      "include_colab_link": true
    },
    "kernelspec": {
      "name": "python3",
      "display_name": "Python 3"
    },
    "language_info": {
      "name": "python"
    }
  },
  "cells": [
    {
      "cell_type": "markdown",
      "metadata": {
        "id": "view-in-github",
        "colab_type": "text"
      },
      "source": [
        "<a href=\"https://colab.research.google.com/github/FestusCJ/Programming-With-Python/blob/master/Prime_Numbers_How_to_find_them.ipynb\" target=\"_parent\"><img src=\"https://colab.research.google.com/assets/colab-badge.svg\" alt=\"Open In Colab\"/></a>"
      ]
    },
    {
      "cell_type": "markdown",
      "source": [
        "Scenario\n",
        "\n",
        "\n",
        "A natural number is prime if it is greater than 1 and has no divisors other than 1 and itself.\n",
        "\n",
        "Complicated? Not at all. For example, 8 isn't a prime number, as you can divide it by 2 and 4 (we can't use divisors equal to 1 and 8, as the definition prohibits this).\n",
        "\n",
        "On the other hand, 7 is a prime number, as we can't find any legal divisors for it.\n",
        "\n",
        "\n",
        "\n",
        "Your task is to write a function checking whether a number is prime or not.\n",
        "\n",
        "The function:\n",
        "\n",
        "is called is_prime;\n",
        "takes one argument (the value to check)\n",
        "returns True if the argument is a prime number, and False otherwise.\n",
        "Hint: try to divide the argument by all subsequent values (starting from 2) and check the remainder - if it's zero, your number cannot be a prime; think carefully about when you should stop the process.\n",
        "\n",
        "If you need to know the square root of any value, you can utilize the ** operator. Remember: the square root of x is the same as x0.5"
      ],
      "metadata": {
        "id": "GgBi7Al4deG5"
      }
    },
    {
      "cell_type": "code",
      "execution_count": null,
      "metadata": {
        "id": "NFe8P2pidbAj"
      },
      "outputs": [],
      "source": [
        "def is_prime(num):\n",
        "    if num == 2 or num == 3: #Qualifies the early prime numbers\n",
        "        return True\n",
        "    if num < 2 or num % 2 == 0: #disqualifies numbers less than 2 and even numbers greater than 2\n",
        "        return False\n",
        "    for i in range (3, int(num**0.5) +1, 2): #starts searching from 3, sets a limit of the integre closest to the square root and searches only odd numbers\n",
        "        if num % i == 0:\n",
        "            return False\n",
        "    return True\n",
        "\n",
        "for i in range(1, 20):\n",
        "\tif is_prime(i + 1):\n",
        "\t\t\tprint(i + 1, end=\" \")\n",
        "print()\n"
      ]
    }
  ]
}