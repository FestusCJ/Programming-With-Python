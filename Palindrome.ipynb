{
  "nbformat": 4,
  "nbformat_minor": 0,
  "metadata": {
    "colab": {
      "name": "Palindrome.ipynb",
      "provenance": [],
      "authorship_tag": "ABX9TyPVbE92ANSMIBpI8n8FgzsE",
      "include_colab_link": true
    },
    "kernelspec": {
      "name": "python3",
      "display_name": "Python 3"
    },
    "language_info": {
      "name": "python"
    }
  },
  "cells": [
    {
      "cell_type": "markdown",
      "metadata": {
        "id": "view-in-github",
        "colab_type": "text"
      },
      "source": [
        "<a href=\"https://colab.research.google.com/github/FestusCJ/Programming-With-Python/blob/master/Palindrome.ipynb\" target=\"_parent\"><img src=\"https://colab.research.google.com/assets/colab-badge.svg\" alt=\"Open In Colab\"/></a>"
      ]
    },
    {
      "cell_type": "markdown",
      "source": [
        "Scenario\n",
        "Do you know what a palindrome is?\n",
        "\n",
        "It's a word which look the same when read forward and backward. For example, \"kayak\" is a palindrome, while \"loyal\" is not.\n",
        "\n",
        "Your task is to write a program which:\n",
        "\n",
        "asks the user for some text;\n",
        "checks whether the entered text is a palindrome, and prints result.\n",
        "Note:\n",
        "\n",
        "assume that an empty string isn't a palindrome;\n",
        "treat upper- and lower-case letters as equal;\n",
        "spaces are not taken into account during the check - treat them as non-existent;\n",
        "there are more than a few correct solutions - try to find more than one.\n",
        "Test your code using the data we've provided.\n",
        "\n",
        "Test data\n",
        "Sample input:\n",
        "\n",
        "Ten animals I slam in a net\n",
        "\n",
        "Sample output:\n",
        "\n",
        "It's a palindrome\n",
        "\n",
        "\n",
        "Sample input:\n",
        "\n",
        "Eleven animals I slam in a net\n",
        "\n",
        "Sample output:\n",
        "\n",
        "It's not a palindrome"
      ],
      "metadata": {
        "id": "vGiiTrcvUsW8"
      }
    },
    {
      "cell_type": "code",
      "execution_count": 2,
      "metadata": {
        "colab": {
          "base_uri": "https://localhost:8080/"
        },
        "id": "eM6kBHr6Upxk",
        "outputId": "9a3d38b4-85dc-49ec-c2be-859a6df1d04d"
      },
      "outputs": [
        {
          "output_type": "stream",
          "name": "stdout",
          "text": [
            "Give me a string: eleven animals I slam in a net\n",
            "False\n",
            "False\n"
          ]
        }
      ],
      "source": [
        "\n",
        "def is_palindrome_v1(strng):\n",
        "    n = len(strng)\n",
        "    is_palindrome = True\n",
        "    for i in range(n):\n",
        "        if strng[i] != strng[n-1-i]:\n",
        "            is_palindrome = False\n",
        "    return is_palindrome\n",
        "\n",
        "def is_palindrome_v2(strng):\n",
        "    is_palindrome = False\n",
        "    # check if the word is equal to its reversed\n",
        "    if strng.lower() == strng[::-1].lower():\n",
        "        is_palindrome = True\n",
        "    return is_palindrome\n",
        "\n",
        "try:\n",
        "    strng = input(\"Give me a string: \")\n",
        "    strng = strng.replace(\" \", \"\").upper()\n",
        "    print(is_palindrome_v1(strng))\n",
        "    print(is_palindrome_v2(strng))\n",
        "except BaseException as e :\n",
        "    print(\"Note: \", e)"
      ]
    }
  ]
}