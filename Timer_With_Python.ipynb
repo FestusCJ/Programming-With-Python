{
  "nbformat": 4,
  "nbformat_minor": 0,
  "metadata": {
    "colab": {
      "name": "Timer_With_Python.ipynb",
      "provenance": [],
      "authorship_tag": "ABX9TyM12YiErJHrumi5A48U/gkJ",
      "include_colab_link": true
    },
    "kernelspec": {
      "name": "python3",
      "display_name": "Python 3"
    },
    "language_info": {
      "name": "python"
    }
  },
  "cells": [
    {
      "cell_type": "markdown",
      "metadata": {
        "id": "view-in-github",
        "colab_type": "text"
      },
      "source": [
        "<a href=\"https://colab.research.google.com/github/FestusCJ/Programming-With-Python/blob/master/Timer_With_Python.ipynb\" target=\"_parent\"><img src=\"https://colab.research.google.com/assets/colab-badge.svg\" alt=\"Open In Colab\"/></a>"
      ]
    },
    {
      "cell_type": "code",
      "execution_count": null,
      "metadata": {
        "id": "-hkgFLzX93jp"
      },
      "outputs": [],
      "source": [
        ""
      ]
    },
    {
      "cell_type": "markdown",
      "source": [
        "We need a class able to count seconds. Easy? Not as much as you may think as we're going to have some specific expectations.\n",
        "\n",
        "Read them carefully as the class you're about write will be used to launch rockets carrying international missions to Mars. It's a great responsibility. We're counting on you!\n",
        "\n",
        "Your class will be called Timer. Its constructor accepts three arguments representing hours (a value from range [0..23] - we will be using the military time), minutes (from range [0..59]) and seconds (from range [0..59]).\n",
        "\n",
        "Zero is the default value for all of the above parameters. There is no need to perform any validation checks.\n",
        "\n",
        "The class itself should provide the following facilities:\n",
        "\n",
        "objects of the class should be \"printable\", i.e. they should be able to implicitly convert themselves into strings of the following form: \"hh:mm:ss\", with leading zeros added when any of the values is less than 10;\n",
        "the class should be equipped with parameterless methods called next_second() and previous_second(), incrementing the time stored inside objects by +1/-1 second respectively.\n",
        "Use the following hints:\n",
        "\n",
        "all object's properties should be private;\n",
        "consider writing a separate function (not method!) to format the time string.\n",
        "Complete the template we've provided in the editor. Run your code and check whether the output looks the same as ours."
      ],
      "metadata": {
        "id": "RRKwfR3-95Jb"
      }
    },
    {
      "cell_type": "markdown",
      "source": [
        "Codes\n",
        "\n",
        "the constructor accepts three arguments, hour, minute, and second\n",
        "\n",
        "the next-second function => add one second to the second part, if it equals 60, set it to 0, and increment minute part by one. If minute equals 60, set it to 0 and increment hour part by one. If the hour is 24, set it to 0.\n",
        "\n",
        "the prev_second function => if the second is 0, set second to 59, else subtract by one. If the minute is 0, set it to 59, else subtract the minute by one. If the hour is 0, set it to 23, else subtract by one.\n",
        "\n",
        "the __str__ function => it’s mainly to present the output. Firstly, assigning self.__second, self.__minute, and self.__hour to __second, __minute, and __hour respectively. If each of them less than 10, prefix 0 to them. Concatenating them with : and returning the outcome.\n",
        "\n",
        "creating an object timer from our defined class Timer, and initiating hour=23, minute=59, and second=59.\n",
        "\n",
        "invoking its next_second() and prev_second() to check if the outputs meet the expectation."
      ],
      "metadata": {
        "id": "6BiBfwYJ-LFx"
      }
    },
    {
      "cell_type": "code",
      "source": [
        "class Timer:\n",
        "    def __init__(self, hour=0, minute=0, second=0):\n",
        "        self.__hour = hour\n",
        "        self.__minute = minute\n",
        "        self.__second = second\n",
        "        \n",
        "    def __str__(self):\n",
        "        __second = self.__second\n",
        "        __minute = self.__minute\n",
        "        __hour = self.__hour\n",
        "        if self.__second < 10:\n",
        "            __second = '0' + str(self.__second)\n",
        "        \n",
        "        if self.__minute < 10:\n",
        "            __minute = '0' + str(self.__minute)\n",
        "            \n",
        "        if self.__hour <10:\n",
        "            __hour = '0' + str(self.__hour)        \n",
        "        \n",
        "        outcome = str(__hour) + ':' + str(__minute) + ':' + str(__second)\n",
        "        return outcome\n",
        "    \n",
        "    def next_second(self):\n",
        "        self.__second += 1\n",
        "        \n",
        "        if self.__second == 60:\n",
        "            self.__second = 0\n",
        "            self.__minute += 1\n",
        "            if self.__minute == 60:\n",
        "                self.__minute = 0\n",
        "                self.__hour += 1\n",
        "                if self.__hour == 24:\n",
        "                    self.__hour = 0\n",
        "   \n",
        "    def prev_second(self):        \n",
        "        if self.__second == 0:\n",
        "            self.__second = 59\n",
        "            if self.__minute == 0:\n",
        "                self.__minute = 59\n",
        "                if self.__hour == 0:\n",
        "                    self.__hour = 23\n",
        "                else:\n",
        "                    self.__hour -= 1\n",
        "            else:\n",
        "                self.__minute -= 1    \n",
        "        else:\n",
        "            self.second -= 1\n",
        "        \n",
        "timer = Timer(23, 59, 59)\n",
        "print(timer)\n",
        "timer.next_second()\n",
        "print(timer)\n",
        "timer.prev_second()\n",
        "print(timer)\n"
      ],
      "metadata": {
        "colab": {
          "base_uri": "https://localhost:8080/"
        },
        "id": "wvnn4gbw-SGw",
        "outputId": "46041cab-7108-45d3-b135-f5b95dd70a1a"
      },
      "execution_count": 1,
      "outputs": [
        {
          "output_type": "stream",
          "name": "stdout",
          "text": [
            "23:59:59\n",
            "00:00:00\n",
            "23:59:59\n"
          ]
        }
      ]
    }
  ]
}