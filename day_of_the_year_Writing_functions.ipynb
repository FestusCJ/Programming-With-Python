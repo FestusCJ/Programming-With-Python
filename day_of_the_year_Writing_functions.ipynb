{
  "nbformat": 4,
  "nbformat_minor": 0,
  "metadata": {
    "colab": {
      "name": "day_of_the year-Writing_functions.ipynb",
      "provenance": [],
      "authorship_tag": "ABX9TyO0jgUv5qVeBopQJ0w6XfuD",
      "include_colab_link": true
    },
    "kernelspec": {
      "name": "python3",
      "display_name": "Python 3"
    },
    "language_info": {
      "name": "python"
    }
  },
  "cells": [
    {
      "cell_type": "markdown",
      "metadata": {
        "id": "view-in-github",
        "colab_type": "text"
      },
      "source": [
        "<a href=\"https://colab.research.google.com/github/FestusCJ/Programming-With-Python/blob/master/day_of_the_year_Writing_functions.ipynb\" target=\"_parent\"><img src=\"https://colab.research.google.com/assets/colab-badge.svg\" alt=\"Open In Colab\"/></a>"
      ]
    },
    {
      "cell_type": "markdown",
      "source": [
        "Scenario\n",
        "Your task is to write and test a function which takes three arguments (a year, a month, and a day of the month) and returns the corresponding day of the year, or returns None if any of the arguments is invalid."
      ],
      "metadata": {
        "id": "0To3BFo_VqXB"
      }
    },
    {
      "cell_type": "code",
      "source": [
        "def is_year_leap(year):\n",
        "    leap = False\n",
        "    if (year %4 ==0) and ((year % 100 !=0) or (year % 400 ==0)):\n",
        "        leap = True\n",
        "    return leap\n",
        "def days_in_month(year, month):\n",
        "    if month in [1, 3, 5, 7, 8, 10, 12]:\n",
        "        return 31\n",
        "    elif month==2:\n",
        "        if is_year_leap(year):\n",
        "            return 29\n",
        "        else:\n",
        "            return 28\n",
        "    elif month in [4,6,8,9,11]:\n",
        "        return 30\n",
        "    else:\n",
        "        return None\n",
        "def day_of_year(year, month, day):\n",
        "    total = 0  # initializing the total variable to add results\n",
        "    # create loop to add only days in the months before the month in the input/test data\n",
        "    for i in range(1, month):\n",
        "        result = days_in_month(year, i)\n",
        "        if result == None:\n",
        "          return None\n",
        "        total += result\n",
        "    result = days_in_month(year, i)\n",
        "    if day >= 1 and day <= total:\n",
        "      day_num = total + day  # add the value of the day argument to get day of the year\n",
        "      return day_num\n",
        "    else:\n",
        "      return None\n",
        "      \n",
        "\n",
        "\n",
        "# test data\n",
        "print(day_of_year(2000, 12, 31))\n",
        "print(day_of_year(1999, 12, 31))\n",
        "print(day_of_year(2021, 7, 29))\n",
        "print(is_year_leap(1900))\n",
        "print(days_in_month(2021, 11))\n",
        "print(day_of_year(2000,2,29))   \n"
      ],
      "metadata": {
        "colab": {
          "base_uri": "https://localhost:8080/"
        },
        "id": "27Pfx4ixV1iQ",
        "outputId": "7524aab7-9847-411d-f9d3-73ff06e784ef"
      },
      "execution_count": 8,
      "outputs": [
        {
          "output_type": "stream",
          "name": "stdout",
          "text": [
            "366\n",
            "365\n",
            "210\n",
            "False\n",
            "30\n",
            "60\n"
          ]
        }
      ]
    },
    {
      "cell_type": "code",
      "execution_count": 5,
      "metadata": {
        "colab": {
          "base_uri": "https://localhost:8080/"
        },
        "id": "ARzEDSJ4VXHH",
        "outputId": "1ecb80e3-1c38-4616-fca1-471d1116758b"
      },
      "outputs": [
        {
          "output_type": "stream",
          "name": "stdout",
          "text": [
            "366\n",
            "365\n",
            "210\n",
            "False\n",
            "30\n",
            "60\n"
          ]
        }
      ],
      "source": [
        "#Another code variant\n",
        "def is_leap_year(year): \n",
        "    if year % 4 != 0:\n",
        "        return False\n",
        "    elif year % 100 != 0:\n",
        "        return True\n",
        "    elif year % 400 != 0:\n",
        "        return False\n",
        "    else:\n",
        "        return True\n",
        "        \n",
        "        \n",
        "def days_in_month(year, month): \n",
        "    if year < 1 or month < 1 or month > 12:\n",
        "        return None\n",
        "    days = [31, 28, 31, 30, 31, 30, 31, 31, 30, 31, 30, 31]\n",
        "    res  = days[month - 1]\n",
        "    if month == 2 and is_leap_year(year):\n",
        "        res = 29\n",
        "    return res\n",
        "\n",
        "\n",
        "def day_of_year(year, month, day): \n",
        "    days = 0\n",
        "    for m in range(1, month):\n",
        "        md = days_in_month(year, m)\n",
        "        if md == None:\n",
        "            return None\n",
        "        days += md\n",
        "    md = days_in_month(year, month)\n",
        "    if day >= 1 and day <= md:\n",
        "        return days + day\n",
        "    else:\n",
        "        return None\n",
        "\n",
        "# test data\n",
        "print(day_of_year(2000, 12, 31))\n",
        "print(day_of_year(1999, 12, 31))\n",
        "print(day_of_year(2021, 7, 29))\n",
        "print(is_leap_year(1900))\n",
        "print(days_in_month(2021, 11))\n",
        "print(day_of_year(2000,2,29))"
      ]
    }
  ]
}