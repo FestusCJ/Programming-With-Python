{
  "nbformat": 4,
  "nbformat_minor": 0,
  "metadata": {
    "colab": {
      "name": "Counting_Stack.ipynb",
      "provenance": [],
      "authorship_tag": "ABX9TyOH0ZZslOR4hWXTECrzs4uQ",
      "include_colab_link": true
    },
    "kernelspec": {
      "name": "python3",
      "display_name": "Python 3"
    },
    "language_info": {
      "name": "python"
    }
  },
  "cells": [
    {
      "cell_type": "markdown",
      "metadata": {
        "id": "view-in-github",
        "colab_type": "text"
      },
      "source": [
        "<a href=\"https://colab.research.google.com/github/FestusCJ/Programming-With-Python/blob/master/Counting_Stack.ipynb\" target=\"_parent\"><img src=\"https://colab.research.google.com/assets/colab-badge.svg\" alt=\"Open In Colab\"/></a>"
      ]
    },
    {
      "cell_type": "markdown",
      "source": [
        "Scenario\n",
        "We've showed you recently how to extend Stack possibilities by defining a new class (i.e., a subclass) which retains all inherited traits and adds some new ones.\n",
        "\n",
        "Your task is to extend the Stack class behavior in such a way so that the class is able to count all the elements that are pushed and popped (we assume that counting pops is enough). Use the Stack class we've provided in the editor.\n",
        "\n",
        "Follow the hints:\n",
        "\n",
        "introduce a property designed to count pop operations and name it in a way which guarantees hiding it;\n",
        "initialize it to zero inside the constructor;\n",
        "provide a method which returns the value currently assigned to the counter (name it get_counter()).\n",
        "Complete the code in the editor. Run it to check whether your code outputs 100.\n",
        "\n"
      ],
      "metadata": {
        "id": "SOZgm1vMGWiH"
      }
    },
    {
      "cell_type": "code",
      "source": [
        "class Stack:\n",
        "    def __init__(self):\n",
        "        self.__stk = []\n",
        "\n",
        "    def push(self, val):\n",
        "        self.__stk.append(val)\n",
        "\n",
        "    def pop(self):\n",
        "        val = self.__stk[-1]\n",
        "        del self.__stk[-1]\n",
        "        return val\n",
        "\n",
        "\n",
        "class CountingStack(Stack):\n",
        "    def __init__(self):\n",
        "        Stack.__init__(self)\n",
        "        self.__counter = 0\n",
        "\n",
        "    def get_counter(self):\n",
        "        return self.__counter\n",
        "\n",
        "    def pop(self):\n",
        "        val = Stack.pop(self)\n",
        "        self.__counter = val\n",
        "        return val\n",
        "        \n",
        "\t\n",
        "\n",
        "stk = CountingStack()\n",
        "for i in range(100):\n",
        "    stk.push(i)\n",
        "    stk.pop()\n",
        "print(stk.get_counter())\n",
        "\n",
        "\n",
        "\n"
      ],
      "metadata": {
        "colab": {
          "base_uri": "https://localhost:8080/"
        },
        "id": "5pUkN1W8Gcci",
        "outputId": "7e5e6bad-3e91-48a0-9bd8-b3d1f0e58c42"
      },
      "execution_count": 1,
      "outputs": [
        {
          "output_type": "stream",
          "name": "stdout",
          "text": [
            "99\n"
          ]
        }
      ]
    }
  ]
}