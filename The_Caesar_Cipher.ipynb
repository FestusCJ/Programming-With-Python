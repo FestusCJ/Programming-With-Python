{
  "nbformat": 4,
  "nbformat_minor": 0,
  "metadata": {
    "colab": {
      "name": "The_Caesar_Cipher.ipynb",
      "provenance": [],
      "authorship_tag": "ABX9TyNulzh75TMNK9rnUrt8FByN",
      "include_colab_link": true
    },
    "kernelspec": {
      "name": "python3",
      "display_name": "Python 3"
    },
    "language_info": {
      "name": "python"
    }
  },
  "cells": [
    {
      "cell_type": "markdown",
      "metadata": {
        "id": "view-in-github",
        "colab_type": "text"
      },
      "source": [
        "<a href=\"https://colab.research.google.com/github/FestusCJ/Programming-With-Python/blob/master/The_Caesar_Cipher.ipynb\" target=\"_parent\"><img src=\"https://colab.research.google.com/assets/colab-badge.svg\" alt=\"Open In Colab\"/></a>"
      ]
    },
    {
      "cell_type": "markdown",
      "source": [
        "The Caesar Cipher: encrypting a message\n",
        "We're going to show you four simple programs in order to present some aspects of string processing in Python. They are purposefully simple, but the lab problems will be significantly more complicated.\n",
        "\n",
        "The first problem we want to show you is called the Caesar cipher - more details here: https://en.wikipedia.org/wiki/Caesar_cipher.\n",
        "\n",
        "This cipher was (probably) invented and used by Gaius Julius Caesar and his troops during the Gallic Wars. The idea is rather simple - every letter of the message is replaced by its nearest consequent (A becomes B, B becomes C, and so on). The only exception is Z, which becomes A.\n",
        "\n",
        "The program in the editor is a very simple (but working) implementation of the algorithm.\n",
        "\n",
        "We've written it using the following assumptions:\n",
        "\n",
        "it accepts Latin letters only (note: the Romans used neither whitespaces nor digits)\n",
        "all letters of the message are in upper case (note: the Romans knew only capitals)\n",
        "Let's trace the code:\n",
        "\n",
        "line 02: ask the user to enter the open (unencrypted), one-line message;\n",
        "line 03: prepare a string for an encrypted message (empty for now)\n",
        "line 04: start the iteration through the message;\n",
        "line 05: if the current character is not alphabetic...\n",
        "line 06: ...ignore it;\n",
        "line 07: convert the letter to upper-case (it's preferable to do it blindly, rather than check whether it's needed or not)\n",
        "line 08: get the code of the letter and increment it by one;\n",
        "line 09: if the resulting code has \"left\" the Latin alphabet (if it's greater than the Z code)...\n",
        "line 10: ...change it to the A code;\n",
        "line 11: append the received character to the end of the encrypted message;\n",
        "line 13: print the cipher.\n",
        "The code, fed with this message:\n",
        "\n",
        "AVE CAESAR\n",
        "\n",
        "outputs:\n",
        "\n",
        "BWFDBFTBS\n"
      ],
      "metadata": {
        "id": "g2dUSLCBCRl2"
      }
    },
    {
      "cell_type": "code",
      "source": [
        "# Caesar cipher.\n",
        "text = input(\"Enter your message: \")\n",
        "cipher = ''\n",
        "for char in text:\n",
        "    if not char.isalpha():\n",
        "        continue\n",
        "    char = char.upper()\n",
        "    code = ord(char) + 1\n",
        "    if code > ord('Z'):\n",
        "        code = ord('A')\n",
        "    cipher += chr(code)\n",
        "\n",
        "print(cipher)\n"
      ],
      "metadata": {
        "id": "Az-79NVUCeGK"
      },
      "execution_count": null,
      "outputs": []
    },
    {
      "cell_type": "markdown",
      "source": [
        "The Caesar Cipher: decrypting a message\n",
        "The reverse transformation should now be clear to you - let's just present you with the code as-is, without any explanations.\n",
        "\n",
        "Look at the code in the editor. Check carefully if it works. Use the cryptogram from the previous program.\n",
        "\n"
      ],
      "metadata": {
        "id": "JyLZHNTyCjO8"
      }
    },
    {
      "cell_type": "code",
      "source": [
        "# Caesar cipher - decrypting a message.\n",
        "cipher = input('Enter your cryptogram: ')\n",
        "text = ''\n",
        "for char in cipher:\n",
        "    if not char.isalpha():\n",
        "        continue\n",
        "    char = char.upper()\n",
        "    code = ord(char) - 1\n",
        "    if code < ord('A'):\n",
        "        code = ord('Z')\n",
        "    text += chr(code)\n",
        "\n",
        "print(text)\n"
      ],
      "metadata": {
        "id": "2qGDnC9aDDEO"
      },
      "execution_count": null,
      "outputs": []
    },
    {
      "cell_type": "markdown",
      "source": [
        "Scenario\n",
        "You are already familiar with the Caesar cipher, and this is why we want you to improve the code we showed you recently.\n",
        "\n",
        "The original Caesar cipher shifts each character by one: a becomes b, z becomes a, and so on. Let's make it a bit harder, and allow the shifted value to come from the range 1..25 inclusive.\n",
        "\n",
        "Moreover, let the code preserve the letters' case (lower-case letters will remain lower-case) and all non-alphabetical characters should remain untouched.\n",
        "\n",
        "Your task is to write a program which:\n",
        "\n",
        "asks the user for one line of text to encrypt;\n",
        "asks the user for a shift value (an integer number from the range 1..25 - note: you should force the user to enter a valid shift value (don't give up and don't let bad data fool you!)\n",
        "prints out the encoded text.\n",
        "Test your code using the data we've provided.\n",
        "\n",
        "Test data\n",
        "Sample input:\n",
        "\n",
        "abcxyzABCxyz 123\n",
        "2\n",
        "\n",
        "Sample output:\n",
        "\n",
        "cdezabCDEzab 123\n",
        "\n",
        "Sample input:\n",
        "\n",
        "The die is cast\n",
        "25\n",
        "\n",
        "Sample output:\n",
        "\n",
        "Sgd chd hr bzrs\n",
        "\n"
      ],
      "metadata": {
        "id": "gv-vDyJbDEnx"
      }
    },
    {
      "cell_type": "code",
      "source": [
        "def encryptLower(codePoint):\n",
        "\t# if the sum of shift and original code point is greater than ord(\"z\") which is 122\n",
        "\t# we need to calculate the difference between codePoint and ord(\"z\")\n",
        "\t# adding the rest to ord(\"a\") then always rest 1\n",
        "\tif codePoint > 122:\n",
        "\t\trest = codePoint - 122\n",
        "\t\tfinalCode = ord(\"a\") + rest - 1\n",
        "\t\treturn chr(finalCode)\n",
        "\telse:\n",
        "\t\treturn chr(codePoint)\n",
        "\n",
        "\n",
        "def encryptUpper(codePoint):\n",
        "\t# the same logic as encryptLower but using ord(\"Z\") which is 90\n",
        "\tif codePoint > 90:\n",
        "\t\trest = codePoint - 90\n",
        "\t\tfinalCode = ord(\"A\") + rest - 1\n",
        "\t\treturn chr(finalCode)\n",
        "\telse:\n",
        "\t\treturn chr(codePoint)\n",
        "\n",
        "\n",
        "def codeEncrypt(codePoint, shift, isLowerCase):\n",
        "\tnewCodePoint = codePoint + shift\n",
        "\tif isLowerCase:\n",
        "\t\tresult = encryptLower(newCodePoint)\n",
        "\telse:\n",
        "\t\tresult = encryptUpper(newCodePoint)\n",
        "\n",
        "\treturn result\n"
      ],
      "metadata": {
        "id": "s73CP_0jDgHX"
      },
      "execution_count": null,
      "outputs": []
    },
    {
      "cell_type": "code",
      "source": [
        "\n",
        "from encrypt import codeEncrypt\n",
        "while True:\n",
        "\tinputData = input(\"Please enter the text you want to encrypt:\")\n",
        "\ttry:\n",
        "\t\t# shift needs to be int and number only between 1 to 25\n",
        "\t\tshift = int(input(\"Please enter the encyption shitf (1-25):\"))\n",
        "\t\tassert (shift >= 1) and (shift <= 25)\n",
        "\t\t# Use a new String for concadenation and display it to the user.\n",
        "\t\toutput = \"\"\n",
        "\t\tisLowerCase = False\n",
        "\t\tfor ch in inputData:\n",
        "\t\t\tcodePoint = ord(ch)\n",
        "\t\t\t# if char's code point between 65 and 90 then it's upper case\n",
        "\t\t\tif (codePoint >= 65) and (codePoint <= 90):\n",
        "\t\t\t\tencypted = codeEncrypt(codePoint, shift, isLowerCase)\n",
        "\t\t\t\toutput += encypted\n",
        "\t\t\t# if char's code point between 97 and 122 then it's lower case\n",
        "\t\t\telif (codePoint >= 97) and (codePoint <= 122):\n",
        "\t\t\t\tisLowerCase = True\n",
        "\t\t\t\tencypted = codeEncrypt(codePoint, shift, isLowerCase)\n",
        "\t\t\t\toutput += encypted\n",
        "\t\t\telse:\n",
        "\t\t\t\toutput += ch\n",
        "\t\tprint(output)\n",
        "\n",
        "\texcept ValueError:\n",
        "\t\tprint(\"You didn't enter a number, please enter a value between 1 to 25!\")\n",
        "\n",
        "\texcept AssertionError:\n",
        "\t\tprint(\"The shift you entered is not a number between 1 to 25, please enter a number is that range!\") "
      ],
      "metadata": {
        "id": "93t4TR9EGY9L"
      },
      "execution_count": null,
      "outputs": []
    },
    {
      "cell_type": "markdown",
      "source": [
        "Another method"
      ],
      "metadata": {
        "id": "tJkMdMk8w0Zz"
      }
    },
    {
      "cell_type": "code",
      "source": [
        "#check the input is not empty\n",
        "checkText = False\n",
        "while checkText != True:\n",
        "    text = input(\"Enter your message: \")\n",
        "    if text != '':\n",
        "        checkText = True\n",
        "#check the shift is an integer and the numbers between 1 and 25\n",
        "checkShift = False\n",
        "shiftNumber = list(range(1,26))\n",
        "while checkShift != True:\n",
        "    try:\n",
        "        shift = int(input(\"Enter your shift number(1~25): \"))\n",
        "        if shift in shiftNumber:\n",
        "            checkShift = True\n",
        "    except:\n",
        "        print(\"Please Enter number between 1 and 25!!\")\n",
        "        continue\n",
        "#improved Caesar Cipher:\n",
        "#if the character is not alphabetical, don’t cipher it\n",
        "#if the character is alphabetic in lowercase, cipher it with a shift ranging from a to z\n",
        "#if the character is alphabetic in uppercase, cipher it with a shift ranging from A to Z\n",
        "cipher = ''\n",
        "for char in text:\n",
        "    if not char.isalpha():\n",
        "        cipher += char\n",
        "    if char.islower():\n",
        "        code = ord(char) + shift\n",
        "        if code > ord('z'):\n",
        "            code = ord('a') + (code - ord('z') - 1)\n",
        "        cipher += chr(code)\n",
        "        \n",
        "    if char.isupper():\n",
        "        code = ord(char) + shift\n",
        "        if code > ord('Z'):\n",
        "            code = ord('A') + (code -ord('Z') - 1)\n",
        "        cipher += chr(code)\n",
        "\n",
        "print(cipher)"
      ],
      "metadata": {
        "colab": {
          "base_uri": "https://localhost:8080/"
        },
        "id": "sBrl2Veiw2iN",
        "outputId": "5373f468-9624-466f-e82a-a794309b5c64"
      },
      "execution_count": 2,
      "outputs": [
        {
          "output_type": "stream",
          "name": "stdout",
          "text": [
            "Enter your message: The die is cast\n",
            "Enter your shift number(1~25): 25\n",
            "Sgd chd hr bzrs\n"
          ]
        }
      ]
    }
  ]
}