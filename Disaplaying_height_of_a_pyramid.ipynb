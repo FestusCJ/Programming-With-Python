{
  "nbformat": 4,
  "nbformat_minor": 0,
  "metadata": {
    "colab": {
      "name": "Disaplaying_height_of_a_pyramid.ipynb",
      "provenance": [],
      "authorship_tag": "ABX9TyNnpraJSBj12ORq5BL7Ai0Y",
      "include_colab_link": true
    },
    "kernelspec": {
      "name": "python3",
      "display_name": "Python 3"
    },
    "language_info": {
      "name": "python"
    }
  },
  "cells": [
    {
      "cell_type": "markdown",
      "metadata": {
        "id": "view-in-github",
        "colab_type": "text"
      },
      "source": [
        "<a href=\"https://colab.research.google.com/github/FestusCJ/Programming-With-Python/blob/master/Disaplaying_height_of_a_pyramid.ipynb\" target=\"_parent\"><img src=\"https://colab.research.google.com/assets/colab-badge.svg\" alt=\"Open In Colab\"/></a>"
      ]
    },
    {
      "cell_type": "markdown",
      "source": [
        "Scenario\n",
        "Listen to this story: a boy and his father, a computer programmer, are playing with wooden blocks. They are building a pyramid.\n",
        "\n",
        "Their pyramid is a bit weird, as it is actually a pyramid-shaped wall - it's flat. The pyramid is stacked according to one simple principle: each lower layer contains one block more than the layer above.\n",
        "\n",
        "The figure illustrates the rule used by the builders:\n",
        "\n",
        "\n",
        "\n",
        "Your task is to write a program which reads the number of blocks the builders have, and outputs the height of the pyramid that can be built using these blocks.\n",
        "\n",
        "Note: the height is measured by the number of fully completed layers - if the builders don't have a sufficient number of blocks and cannot complete the next layer, they finish their work immediately."
      ],
      "metadata": {
        "id": "hcxkN0ad90qF"
      }
    },
    {
      "cell_type": "code",
      "source": [
        "#For this coding exercise, simply use a top to bottom approach by increasing the each blocks layer by layer.\n",
        "\n",
        "blocks = int(input(\"Enter the number of blocks: \"))\n",
        "\n",
        "height = 0\n",
        "\n",
        "while blocks > height :\n",
        "  height +=1\n",
        "  blocks = blocks - height\n",
        "\n",
        "print(\"The height of the pyramid:\", height)"
      ],
      "metadata": {
        "colab": {
          "base_uri": "https://localhost:8080/"
        },
        "id": "vO7hGWBo93xn",
        "outputId": "573fa686-3184-405e-da2c-e47ae5dae5d0"
      },
      "execution_count": 1,
      "outputs": [
        {
          "output_type": "stream",
          "name": "stdout",
          "text": [
            "Enter the number of blocks: 6\n",
            "The height of the pyramid: 3\n"
          ]
        }
      ]
    }
  ]
}