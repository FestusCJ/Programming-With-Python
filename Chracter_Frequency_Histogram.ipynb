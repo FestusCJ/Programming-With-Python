{
  "nbformat": 4,
  "nbformat_minor": 0,
  "metadata": {
    "colab": {
      "name": "Chracter_Frequency_Histogram.ipynb",
      "provenance": [],
      "authorship_tag": "ABX9TyPzqbFA9C+yX+q/82bhwtWb",
      "include_colab_link": true
    },
    "kernelspec": {
      "name": "python3",
      "display_name": "Python 3"
    },
    "language_info": {
      "name": "python"
    }
  },
  "cells": [
    {
      "cell_type": "markdown",
      "metadata": {
        "id": "view-in-github",
        "colab_type": "text"
      },
      "source": [
        "<a href=\"https://colab.research.google.com/github/FestusCJ/Programming-With-Python/blob/master/Chracter_Frequency_Histogram.ipynb\" target=\"_parent\"><img src=\"https://colab.research.google.com/assets/colab-badge.svg\" alt=\"Open In Colab\"/></a>"
      ]
    },
    {
      "cell_type": "markdown",
      "source": [
        "Scenario 1\n",
        "\n",
        "A text file contains some text (nothing unusual) but we need to know how often (or how rare) each letter appears in the text. Such an analysis may be useful in cryptography, so we want to be able to do that in reference to the Latin alphabet.\n",
        "\n",
        "Task is to write a program which:\n",
        "\n",
        "asks the user for the input file’s name;\n",
        "reads the file (if possible) and counts all the Latin letters (lower- and upper-case letters are treated as equal)\n",
        "\n",
        "prints a simple histogram in alphabetical order (only non-zero counts should be presented)\n",
        "\n",
        "Create a test file for the code, and check if your histogram contains valid results."
      ],
      "metadata": {
        "id": "d219haLaAvOi"
      }
    },
    {
      "cell_type": "code",
      "execution_count": null,
      "metadata": {
        "id": "a7JZzeZY9XfD"
      },
      "outputs": [],
      "source": [
        "\n",
        "#Enter the testing file named “text.txt” in my example.\n",
        "#Using try and except to print the error message.\n",
        "#Defining a variable alpha including all the alphabets, creating empty dictionary dataDict, using for loop to get an initial dataDict which contain every letter as a key and 0 as value.\n",
        "#Reading text.txt and strip it, then make all the string lowercase and save them as data2\n",
        "#Using for loop to iterate data2, if the character in data2 is alphabetic, then its value plus 1 accordingly and update dataDict.\n",
        "#Using for loop to print the required format if the value is greater than 0.\n",
        "\n",
        "from os import strerror\n",
        "srcname = input(\"Open a file:\")\n",
        "try:\n",
        "    src = open(srcname, 'rt')\n",
        "except IOError as e:\n",
        "    print(\"Cannot open the file: \",strerror(e.errno))\n",
        "    \n",
        "alpha = 'abcdefghijklmnopqrstuvwxyz'\n",
        "dataDict ={}\n",
        "for letter in alpha:\n",
        "    dataDict.update({letter:0})\n",
        "    \n",
        "data = src.read().strip()\n",
        "data2 = data.lower()\n",
        "\n",
        "for ch in data2:\n",
        "    if ch.isalpha():\n",
        "        temp = {ch:dataDict[ch]+1}\n",
        "        dataDict.update(temp)\n",
        "\n",
        "for i in alpha:\n",
        "    if dataDict[i] > 0:\n",
        "        print(i,' -> ', dataDict[i])\n",
        "        \n",
        "src.close()"
      ]
    },
    {
      "cell_type": "markdown",
      "source": [
        "Scenario 2\n",
        "\n",
        "The previous code needs to be improved. It’s okay, but it has to be better.\n",
        "\n",
        "Your task is to make some amendments, which generate the following results:\n",
        "\n",
        "the output histogram will be sorted based on the characters’ frequency (the bigger counter should be presented first)\n",
        "\n",
        "the histogram should be sent to a file with the same name as the input one, but with the suffix ‘.hist’ (it should be concatenated to the original name)"
      ],
      "metadata": {
        "id": "ozqx5iVuCR0t"
      }
    },
    {
      "cell_type": "code",
      "source": [
        "#Getting all values from dataDict and transferring them to a list as valueList, sorting valueList and filtering the values which are greater than 0\n",
        "#Creating an empty list acendList and using for loop to append the values in sortedValue to acendList. This will reverse the sortedValue.\n",
        "#Using two for loop to iterate the value in acendValue and the letters in dataDict.keys( ), if the value equals to item, print the format data\n",
        "#and write them to text.hist (we define the file name when we input a destination file at the beginning)\n",
        "\n",
        "from os import strerror\n",
        "srcname = input(\"Open a file: \")\n",
        "dstname = input(\"Select a dst file: \")\n",
        "try:\n",
        "    src = open(srcname, 'rt')\n",
        "    dst = open(dstname, 'wt')\n",
        "except IOError as e:\n",
        "    print(\"Cannot open the file: \",strerror(e.errno))\n",
        "    \n",
        "alpha = 'abcdefghijklmnopqrstuvwxyz'\n",
        "dataDict ={}\n",
        "for letter in alpha:\n",
        "    dataDict.update({letter:0})\n",
        "    \n",
        "data = src.read().strip()\n",
        "data2 = data.lower()\n",
        "\n",
        "for ch in data2:\n",
        "    if ch.isalpha():\n",
        "        temp = {ch:dataDict[ch]+1}\n",
        "        dataDict.update(temp)\n",
        "\n",
        "# ======================================================\n",
        "\n",
        "valueList = list(dataDict.values())\n",
        "valueList.sort()\n",
        "sortedValue = list(filter(lambda x: x > 0, valueList))\n",
        "\n",
        "acendValue = []\n",
        "for i in range(0,len(sortedValue)):\n",
        "    acendValue.append(sortedValue.pop())\n",
        "\n",
        "for item in acendValue:\n",
        "    for letter in list(dataDict.keys()):\n",
        "        if dataDict[letter] == item:\n",
        "            print(letter, ' -> ', item)\n",
        "            newData = letter + ' -> ' + str(item) + '\\n'\n",
        "            dst.write(newData)\n",
        "            del dataDict[letter]\n",
        "            \n",
        "src.close()\n",
        "dst.close()"
      ],
      "metadata": {
        "id": "kHC5A9mrDcNC"
      },
      "execution_count": null,
      "outputs": []
    }
  ]
}