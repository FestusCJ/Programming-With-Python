{
  "nbformat": 4,
  "nbformat_minor": 0,
  "metadata": {
    "colab": {
      "name": "Challenge_3_Storing_numbers.ipynb",
      "provenance": [],
      "authorship_tag": "ABX9TyMUTZchHhmF4zYaCU7mFwDZ",
      "include_colab_link": true
    },
    "kernelspec": {
      "name": "python3",
      "display_name": "Python 3"
    },
    "language_info": {
      "name": "python"
    }
  },
  "cells": [
    {
      "cell_type": "markdown",
      "metadata": {
        "id": "view-in-github",
        "colab_type": "text"
      },
      "source": [
        "<a href=\"https://colab.research.google.com/github/FestusCJ/Programming-With-Python/blob/master/Challenge_3_Storing_numbers.ipynb\" target=\"_parent\"><img src=\"https://colab.research.google.com/assets/colab-badge.svg\" alt=\"Open In Colab\"/></a>"
      ]
    },
    {
      "cell_type": "code",
      "execution_count": null,
      "metadata": {
        "id": "T4sHIprW5Tlh"
      },
      "outputs": [],
      "source": [
        "#challenge (storing numbers)\n",
        "#Have the user enter the cost of the loan, the interest rate, and the number of years for the loan and calculate monthly payments with the following formula\n",
        "#M = L[i(1+i)n] / [(1+i)n-1]\n",
        "#\tM = monthly payment\n",
        "#\tL = Loan amount \n",
        "#\ti = interest rate (for an interest rate of 5%, i = 0.05)\n",
        "#\tn = number of payments\n",
        "\n",
        "#Declare and initialize the variables\n",
        "loanAmount = 0\n",
        "interestRate = 0\n",
        "numberOfPayments = 0\n",
        "durationOfPaymentInYears = 0\n",
        "\n",
        "#Ask the user to input the values needed to calculate the monthly payment\n",
        "strloanAmount = input(\"Please how must you wish to borrow: \")\n",
        "strinterestRate = input(\"Please enter the interest rate: \")\n",
        "strdurationOfPaymentInYears = input(\"Please enter number of years you need to pay up the loan: \")\n",
        "\n",
        "#coverting variables to float since inputs are strings\n",
        "loanAmount = float(strloanAmount)\n",
        "interestRate = float(strinterestRate)\n",
        "durationOfPaymentInYears = float(strdurationOfPaymentInYears)\n",
        "\n",
        "#since payments are made momthly we will need to covert the duration in years to months by multyplying with 12\n",
        "numberOfPayments = float(durationOfPaymentInYears) * 12\n",
        "\n",
        "\n",
        "monthlyPayment = loanAmount * interestRate * (1 + interestRate) * numberOfPayments / (((1 + interestRate) * numberOfPayments) - 1)\n",
        "\n",
        "#display the result\n",
        "print(\"Your monthly payment will be: \" + str(monthlyPayment))\n",
        "\n",
        "#to display the result in 2 decimal places\n",
        "print(\"Your monthly payment will be: $%.2f \" %monthlyPayment)\n",
        "\n"
      ]
    }
  ]
}