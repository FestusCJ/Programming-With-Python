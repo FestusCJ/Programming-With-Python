{
  "nbformat": 4,
  "nbformat_minor": 0,
  "metadata": {
    "colab": {
      "name": "Operating_with_lists-basics.ipynb",
      "provenance": [],
      "authorship_tag": "ABX9TyNCIDCrLA3LKeyzPmk2Uj+k",
      "include_colab_link": true
    },
    "kernelspec": {
      "name": "python3",
      "display_name": "Python 3"
    },
    "language_info": {
      "name": "python"
    }
  },
  "cells": [
    {
      "cell_type": "markdown",
      "metadata": {
        "id": "view-in-github",
        "colab_type": "text"
      },
      "source": [
        "<a href=\"https://colab.research.google.com/github/FestusCJ/Programming-With-Python/blob/master/Operating_with_lists_basics.ipynb\" target=\"_parent\"><img src=\"https://colab.research.google.com/assets/colab-badge.svg\" alt=\"Open In Colab\"/></a>"
      ]
    },
    {
      "cell_type": "markdown",
      "source": [
        "Scenario\n",
        "Imagine a list - not very long, not very complicated, just a simple list containing some integer numbers. Some of these numbers may be repeated, and this is the clue. We don't want any repetitions. We want them to be removed.\n",
        "\n",
        "Your task is to write a program which removes all the number repetitions from the list. The goal is to have a list in which all the numbers appear not more than once."
      ],
      "metadata": {
        "id": "DLXr8VlEu79b"
      }
    },
    {
      "cell_type": "code",
      "execution_count": null,
      "metadata": {
        "id": "Zyo8nFLbu0Qx"
      },
      "outputs": [],
      "source": [
        "my_list = [1, 2, 4, 4, 1, 4, 2, 6, 2, 9]\n",
        "#\n",
        "# Write your code here.\n",
        "#\n",
        "new_list = [] #create an empty list to transfer the unique elements\n",
        "for number in my_list:\n",
        "    if number not in new_list:\n",
        "        new_list.append(number)\n",
        "\n",
        "print(my_list) #display the original list\n",
        "print(\"The list with unique elements only:\", new_list) #print the list with unique elements\n"
      ]
    }
  ]
}