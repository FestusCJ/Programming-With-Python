{
  "nbformat": 4,
  "nbformat_minor": 0,
  "metadata": {
    "colab": {
      "name": "Examining_Student's_Results.ipynb",
      "provenance": [],
      "authorship_tag": "ABX9TyN/ii+bkwomsYg3AroNvCBW",
      "include_colab_link": true
    },
    "kernelspec": {
      "name": "python3",
      "display_name": "Python 3"
    },
    "language_info": {
      "name": "python"
    }
  },
  "cells": [
    {
      "cell_type": "markdown",
      "metadata": {
        "id": "view-in-github",
        "colab_type": "text"
      },
      "source": [
        "<a href=\"https://colab.research.google.com/github/FestusCJ/Programming-With-Python/blob/master/Examining_Student's_Results.ipynb\" target=\"_parent\"><img src=\"https://colab.research.google.com/assets/colab-badge.svg\" alt=\"Open In Colab\"/></a>"
      ]
    },
    {
      "cell_type": "markdown",
      "source": [
        "Scenario\n",
        "\n",
        "A professor conducts classes with students and regularly makes notes in a text file. Each line of the file contains 3 elements: the student’s first name, the student’s last name, and the number of points the student received during certain classes.\n",
        "\n",
        "The elements are separated with white spaces(or tabs). Each student may appear more than once inside the professor’s file.\n",
        "The file may look as follows:\n",
        "\n",
        "  John     Smith    5\n",
        "  Anna     Boleyn   4.5\n",
        "  John     Smith    2\n",
        "  Anna     Boleyn   11\n",
        "  Andrew   Cox      1.5\n",
        "\n",
        "he task is to write a program which:\n",
        "asks the user for Prof. Jekyll’s file name;\n",
        "reads the file contents and counts the sum of the received points for each student;\n",
        "prints a simple (but sorted) report, just like this one:\n",
        "\n",
        "Andrew  Cox      1.5\n",
        "Anna    Boleyn   15.5\n",
        "John    Smith    7.0\n",
        "\n",
        "Note:\n",
        "\n",
        "your program must be fully protected against all possible failures: the file’s non-existence, the file’s emptiness, or any input data failures; encountering any data error should cause immediate program termination, and the erroneous should be presented to the user;\n",
        "\n",
        "implement and use your own exceptions hierarchy, the second exception should be raised when a bad line is detected, and the third when the source file exists but is empty."
      ],
      "metadata": {
        "id": "3n0KqFYWFR9X"
      }
    },
    {
      "cell_type": "code",
      "source": [
        "#Defining our own classes StudentsDataException, BadLine, FileEmpty.\n",
        "#Defining a function closeFilesAndExit that could close source and destination files\n",
        "#Reading lines from the source file. If the data is empty, raising an exception FileEmpty.\n",
        "#Creating an empty studentDict, striping it and replacing \\t with spaces. Then split with spaces, concatenating first name, last name.\n",
        "#Storing each score to studentOneScore. If the student we iterate exists in the studentDict.keys( ), its score plus with the new score and storing them in temp temporarily.\n",
        "#Otherwise, storing them in temp directly. Lastly, updating studentDict.\n",
        "#Sorting studentDict.keys( ), concatenating its key, value and writing them into the destination file.\n",
        "#close the source and destination files.\n",
        "#Setting exceptions we defined previously.\n",
        "\n",
        "\n",
        "class StudentsDataException(BaseException):\n",
        "    pass \n",
        "\n",
        "class BadLine(StudentsDataException):\n",
        "    def __str__ (self):\n",
        "        return \"There is bad lines or wrong scores.\" \n",
        "\n",
        "class FileEmpty(StudentsDataException):\n",
        "    def __str__ (self):\n",
        "        return \"There is no data in the file.\" \n",
        "\n",
        "def closeFilesAndExit(src, dst, e):\n",
        "    src.close()\n",
        "    dst.close()\n",
        "    return e.__str__()\n",
        "\n",
        "try:\n",
        "    srcname = input(\"Enter the source file: \")\n",
        "    dstname = input(\"Enter the destination file: \")\n",
        "    src = open(srcname, 'rt')  \n",
        "    dst = open(dstname, 'wt')\n",
        "    \n",
        "    data = src.readlines()\n",
        "    if data == []:\n",
        "        raise FileEmpty()\n",
        "    try:\n",
        "        studentDict = {}\n",
        "        for i in data:\n",
        "            newData = i.strip().replace('\\t',' ')\n",
        "            studentData = newData.split(' ')\n",
        "            student = studentData[0] + '\\t'+studentData[1] +'\\t'\n",
        "            studentOneScore = studentData[2]                 \n",
        "            if student in studentDict.keys():\n",
        "                temp = {student: float(studentDict[student])+float(studentOneScore)}\n",
        "            else:\n",
        "                temp = {student: float(studentOneScore)}\n",
        "            studentDict.update(temp)\n",
        "\n",
        "        for k in sorted(studentDict.keys()):\n",
        "            temp = k + str(studentDict[k]) + '\\n'\n",
        "            dst.write(temp)\n",
        "    except:\n",
        "        raise BadLine()\n",
        "\n",
        "    src.close()\n",
        "    dst.close()\n",
        "                \n",
        "except FileEmpty as fe:\n",
        "    message = closeFilesAndExit(src, dst, fe)\n",
        "    print(message)\n",
        "except BadLine as bl:\n",
        "    message = closeFilesAndExit(src, dst, bl)\n",
        "    print(message)\n",
        "except BaseException as e:\n",
        "    message = closeFilesAndExit(src, dst, e)\n",
        "    print(message)"
      ],
      "metadata": {
        "id": "hAcAKDm1GK8n"
      },
      "execution_count": null,
      "outputs": []
    }
  ]
}