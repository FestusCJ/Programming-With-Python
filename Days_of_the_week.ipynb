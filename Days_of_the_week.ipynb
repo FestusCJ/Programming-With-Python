{
  "nbformat": 4,
  "nbformat_minor": 0,
  "metadata": {
    "colab": {
      "name": "Days_of_the_week.ipynb",
      "provenance": [],
      "authorship_tag": "ABX9TyPrRkf4E5J8l9evMh9/009K",
      "include_colab_link": true
    },
    "kernelspec": {
      "name": "python3",
      "display_name": "Python 3"
    },
    "language_info": {
      "name": "python"
    }
  },
  "cells": [
    {
      "cell_type": "markdown",
      "metadata": {
        "id": "view-in-github",
        "colab_type": "text"
      },
      "source": [
        "<a href=\"https://colab.research.google.com/github/FestusCJ/Programming-With-Python/blob/master/Days_of_the_week.ipynb\" target=\"_parent\"><img src=\"https://colab.research.google.com/assets/colab-badge.svg\" alt=\"Open In Colab\"/></a>"
      ]
    },
    {
      "cell_type": "code",
      "execution_count": null,
      "metadata": {
        "id": "uls8lpqFBJ3D"
      },
      "outputs": [],
      "source": [
        ""
      ]
    },
    {
      "cell_type": "markdown",
      "source": [
        "Scenario\n",
        "Your task is to implement a class called Weeker. Yes, your eyes don't deceive you – this name comes from the fact that objects of that class will be able to store and to manipulate the days of the week.\n",
        "\n",
        "The class constructor accepts one argument – a string. The string represents the name of the day of the week and the only acceptable values must come from the following set:\n",
        "\n",
        "Mon Tue Wed Thu Fri Sat Sun\n",
        "\n",
        "Invoking the constructor with an argument from outside this set should raise the WeekDayError exception (define it yourself; don't worry, we'll talk about the objective nature of exceptions soon). The class should provide the following facilities:\n",
        "\n",
        "objects of the class should be \"printable\", i.e. they should be able to implicitly convert themselves into strings of the same form as the constructor arguments;\n",
        "the class should be equipped with one-parameter methods called add_days(n) and subtract_days(n), with n being an integer number and updating the day of week stored inside the object in the way reflecting the change of date by the indicated number of days, forward or backward.\n",
        "all object's properties should be private;\n",
        "Complete the template we've provided in the editor and run your code and check whether your output looks the same as ours.\n",
        "\n",
        "Expected output\n",
        "Mon\n",
        "Tue\n",
        "Sun\n",
        "Sorry, I can't serve your request."
      ],
      "metadata": {
        "id": "1g3c3x7ZBKjI"
      }
    },
    {
      "cell_type": "markdown",
      "source": [
        "Codes\n",
        "\n",
        "defining class  WeekDayError inheriting from Exception\n",
        "\n",
        "the constructor accepts an argument and extracts the index number which it locates in  __weekdays list, a class variable. Putting them in a  try block. If there is any error, raising  WeekDayError.\n",
        "\n",
        "the  add_days function => calculating the index number after adding a number  n. Storing it to the  self.__stat variable.\n",
        "\n",
        "the  subtract_days function => calculating the index number after subtracting a number  n. Storing it to the  self.__stat variable.\n",
        "\n",
        "the  __str__ function => return the outcome."
      ],
      "metadata": {
        "id": "3nYSgLE5BL7N"
      }
    },
    {
      "cell_type": "code",
      "source": [
        "class WeekDayError(Exception):\n",
        "    pass\n",
        "\n",
        "class Weeker:\n",
        "    __weekdays = ['Mon','Tue','Wed', 'Thu','Fri','Sat', 'Sun']\n",
        "    \n",
        "    def __init__(self,day):\n",
        "        try:\n",
        "            self.__stat = self.__weekdays.index(day)\n",
        "        except:\n",
        "            raise WeekDayError\n",
        "    \n",
        "    def __str__(self):\n",
        "        return self.__weekdays[self.__stat]\n",
        "        \n",
        "    def add_days(self, n):\n",
        "        self.__stat = (self.__stat + n ) % 7\n",
        "        \n",
        "    def subtract_days(self, n):\n",
        "        self.__stat = (self.__stat - n ) % 7\n",
        "        \n",
        "try:\n",
        "    weekday = Weeker('Mon')\n",
        "    print(weekday)\n",
        "    weekday.add_days(15)\n",
        "    print(weekday)\n",
        "    weekday.subtract_days(23)\n",
        "    print(weekday)\n",
        "    weekday = Weeker('Monday')\n",
        "except WeekDayError:\n",
        "    print(\"Sorry, I can't serve your request.\")"
      ],
      "metadata": {
        "colab": {
          "base_uri": "https://localhost:8080/"
        },
        "id": "T25LqEm4BqEh",
        "outputId": "064f430f-284e-4761-8862-e0b43ddc59e5"
      },
      "execution_count": 2,
      "outputs": [
        {
          "output_type": "stream",
          "name": "stdout",
          "text": [
            "Mon\n",
            "Tue\n",
            "Sun\n",
            "Sorry, I can't serve your request.\n"
          ]
        }
      ]
    }
  ]
}