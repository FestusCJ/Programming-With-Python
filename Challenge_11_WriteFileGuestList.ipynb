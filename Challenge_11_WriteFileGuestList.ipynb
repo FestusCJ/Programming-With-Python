{
  "nbformat": 4,
  "nbformat_minor": 0,
  "metadata": {
    "colab": {
      "name": "Challenge_11_WriteFileGuestList.ipynb",
      "provenance": [],
      "collapsed_sections": [],
      "authorship_tag": "ABX9TyP8caBq3DT2GA5xlaRW46li",
      "include_colab_link": true
    },
    "kernelspec": {
      "name": "python3",
      "display_name": "Python 3"
    },
    "language_info": {
      "name": "python"
    }
  },
  "cells": [
    {
      "cell_type": "markdown",
      "metadata": {
        "id": "view-in-github",
        "colab_type": "text"
      },
      "source": [
        "<a href=\"https://colab.research.google.com/github/FestusCJ/Programming-With-Python/blob/master/Challenge_11_WriteFileGuestList.ipynb\" target=\"_parent\"><img src=\"https://colab.research.google.com/assets/colab-badge.svg\" alt=\"Open In Colab\"/></a>"
      ]
    },
    {
      "cell_type": "markdown",
      "source": [
        "Module 11 challenge (how to save information in files)\n",
        "Create the CSV file below\n",
        " \n",
        "\n"
      ],
      "metadata": {
        "id": "MEH85Io_BW4d"
      }
    },
    {
      "cell_type": "code",
      "source": [
        "#Declare and hold the variable in a file specifying the accessmode\n",
        "fileName = \"GuestList.csv\"\n",
        "accessmode = \"w\"\n",
        "\n",
        "#open the file to \n",
        "myFile = open(fileName, accessmode)\n",
        "\n",
        "#write the guest names and ages into files\n",
        "myFile.write(\"Doyle McCarty, 27 \\n\")\n",
        "myFile.write(\"Jodi Mills, 25 \\n\")\n",
        "myFile.write(\"Nicholas Rose, 32 \\n\")\n",
        "myFile.write(\"Kian Goddard, 36 \\n\")\n",
        "myFile.write(\"Zuha Hanania, 26 \\n\")\n",
        "\n",
        "#close the file\n",
        "myFile.close()\n",
        "\n"
      ],
      "metadata": {
        "id": "XC3_OzOSBcnD"
      },
      "execution_count": 5,
      "outputs": []
    },
    {
      "cell_type": "markdown",
      "source": [
        "For extra credit, ask your user to enter names and ages for 5 different guests and save these data to your csv file.\n"
      ],
      "metadata": {
        "id": "ICv4hz0BI0s7"
      }
    },
    {
      "cell_type": "code",
      "source": [
        "#Declare and hold the variable in a file specifying the accessmode\n",
        "fileName = \"GuestList.csv\"\n",
        "accessmode = \"w\"\n",
        "\n",
        "#open the file to \n",
        "myFile = open(fileName, accessmode)\n",
        "\n",
        "#ask the user for guests names and ages and record them in the file\n",
        "for index in range(5):\n",
        "  name = input(\"Please enter the full name of the guest: \")\n",
        "  age = input(\"Please enter the age of the guest in numeric form: \")\n",
        "  myFile.write( name + \", \" + age + \"\\n\")\n",
        "\n",
        "#close the file\n",
        "myFile.close()\n",
        "\n"
      ],
      "metadata": {
        "id": "CgF10f16JrKD"
      },
      "execution_count": null,
      "outputs": []
    }
  ]
}