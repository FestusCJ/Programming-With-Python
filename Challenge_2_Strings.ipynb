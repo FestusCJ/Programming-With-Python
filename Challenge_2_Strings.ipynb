{
  "nbformat": 4,
  "nbformat_minor": 0,
  "metadata": {
    "colab": {
      "name": "Challenge_2_Strings.ipynb",
      "provenance": [],
      "authorship_tag": "ABX9TyMQP3WP77utBpjFZki6zJFS",
      "include_colab_link": true
    },
    "kernelspec": {
      "name": "python3",
      "display_name": "Python 3"
    },
    "language_info": {
      "name": "python"
    }
  },
  "cells": [
    {
      "cell_type": "markdown",
      "metadata": {
        "id": "view-in-github",
        "colab_type": "text"
      },
      "source": [
        "<a href=\"https://colab.research.google.com/github/FestusCJ/Programming-With-Python/blob/master/Challenge_2_Strings.ipynb\" target=\"_parent\"><img src=\"https://colab.research.google.com/assets/colab-badge.svg\" alt=\"Open In Colab\"/></a>"
      ]
    },
    {
      "cell_type": "code",
      "source": [
        ""
      ],
      "metadata": {
        "id": "m3znN1gX6EU3"
      },
      "execution_count": null,
      "outputs": []
    },
    {
      "cell_type": "code",
      "execution_count": null,
      "metadata": {
        "id": "o4BulaOuWMH1"
      },
      "outputs": [],
      "source": [
        "#Challenge (string variables)\n",
        "#Write a program that allows a person to personalize a story\n",
        "#Take a page from a book or make up a story. Ask the user to enter information you can replace in the story such as their name,\n",
        "#  a place, or insert adjectives or adverbs into the story. \n",
        "#Then display the personalized story to the user\n",
        "#For extra credit make sure you correct anything they type in with the incorrect case\n",
        "#  (e.g. if they type an adjective in uppercase you may want to display it in lowercase)\n",
        "\n",
        "#A brief story\n",
        "#Ask the user to enter a name\n",
        "name = input(\"Please enter your name: \")\n",
        "name = name.capitalize()\n",
        "\n",
        "#print short story\n",
        "print(\"When \" + name + \" learned that their godparent's name was \" + name + \", \" + name + \n",
        "      \" realized why their father gave them the name \" + name + \"!.\")\n",
        "\n",
        "#A longer story\n",
        "#initialize the variables\n",
        "boyname = \" \"\n",
        "walkdescription = \" \"\n",
        "feeling = \" \" \n",
        "description = \" \"\n",
        "animal = \" \"\n",
        "\n",
        "#Ask the user to specify values for the variables\n",
        "boyname = input(\"Enter a boy's name: \" )\n",
        "walkdescription = input(\"Enter a description of how you might dance: \" )\n",
        "feeling = input(\"Enter how you feel about an helpless animal: \")\n",
        "description = input(\"Enter how you woud describe a flower: \")\n",
        "animal = input(\"Enter an animal's name: \" )\n",
        "\n",
        "#Display the story\n",
        "#Don't forget to format the strings when they are displayed\n",
        "print(\"In August 2016, \")\n",
        "print(\"A boy called \" + boyname.capitalize() + \" was walking \" + walkdescription.lower() + \" down the road.\")\n",
        "print(\"He saw a weakened and helpless dog by the roadside and he felt \" + feeling.lower() + \". \")\n",
        "print(boyname.capitalize() + \" reached out to other pedestrians about the owner of the dog but no one seemed to know. \")\n",
        "print(\"He said to the dog, 'You are really \" + description.lower() + \"!. I would love to adopt you if I can't find your owner'.\")\n",
        "print(\"He took the dog home and named it \" + animal.capitalize() + \". \" + boyname.capitalize() + \n",
        "      \" then began nursing \" + animal.capitalize() + \" back to good health. \")\n",
        "print(\"He regularly posted photos and videos of \" + animal.capitalize() + \n",
        "      \" online, showing the world the recovery journey of \" + animal.capitalize() + \". \")\n",
        "print(\"He also encouraged his friends and followers to help search for the owner of \" + animal.capitalize())\n",
        "print(\"After two months of bonding between \" + boyname.capitalize() + \" and \" + animal.capitalize() + \n",
        "      \", he formally adopted the dog much to the delight of his online community and they lived happily ever after.\")\n",
        "\n",
        "\n",
        "#program to introduce oneself\n",
        "#Ask the user to specify values for the variables\n",
        "firstName = input(\"What is your First name? \")\n",
        "lastName = input(\"What is your Last Name? \")\n",
        "age = input(\"How old are you? \")\n",
        "country = input(\"Which country are you from? \")\n",
        "occupation = input(\"What do you do for a living? \")\n",
        "hobby = input(\"What is your hobby? \")\n",
        "\n",
        "#print the introduction\n",
        "print(\"Hello there!, my name is \" + firstName.capitalize() + \" \" + lastName.capitalize() + \".\")\n",
        "print(\"I am \" + age + \" \" + \"years old. \")\n",
        "print(\"I come from \" + country.capitalize() + \" and I am currently a \" + occupation.capitalize() + \".\")\n",
        "print(\"I enjoy \" + hobby.lower() + \".\")\n",
        "print(\"Thank you!.\")"
      ]
    }
  ]
}