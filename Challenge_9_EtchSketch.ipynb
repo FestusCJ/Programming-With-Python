{
  "nbformat": 4,
  "nbformat_minor": 0,
  "metadata": {
    "colab": {
      "name": "Challenge_9_EtchSketch.ipynb",
      "provenance": [],
      "authorship_tag": "ABX9TyNMSf/sSVxZEuh8fA0/8+kV",
      "include_colab_link": true
    },
    "kernelspec": {
      "name": "python3",
      "display_name": "Python 3"
    },
    "language_info": {
      "name": "python"
    }
  },
  "cells": [
    {
      "cell_type": "markdown",
      "metadata": {
        "id": "view-in-github",
        "colab_type": "text"
      },
      "source": [
        "<a href=\"https://colab.research.google.com/github/FestusCJ/Programming-With-Python/blob/master/Challenge_9_EtchSketch.ipynb\" target=\"_parent\"><img src=\"https://colab.research.google.com/assets/colab-badge.svg\" alt=\"Open In Colab\"/></a>"
      ]
    },
    {
      "cell_type": "code",
      "execution_count": 9,
      "metadata": {
        "colab": {
          "base_uri": "https://localhost:8080/"
        },
        "id": "bg5FFXxW1NwF",
        "outputId": "b8d76c12-6cb6-411b-cac0-6374d82242bd"
      },
      "outputs": [
        {
          "output_type": "stream",
          "name": "stdout",
          "text": [
            "Requirement already satisfied: ColabTurtle in /usr/local/lib/python3.7/dist-packages (2.1.0)\n"
          ]
        }
      ],
      "source": [
        "# Module 9 challenge (repeating events until done)\n",
        "# Create an etch a sketch program\n",
        "#\tHave the user enter a pen color, a line length, and an angle\n",
        "#\tUse turtle to draw a line based on their specifications\n",
        "#\tLet them specify new lines over and over until they enter a line length of 0 \n",
        "#\tWhen the user specifies a line length of 0 stop drawing\n",
        "\n",
        "#import dependency\n",
        "!pip3 install ColabTurtle\n"
      ]
    },
    {
      "cell_type": "code",
      "source": [
        "#import relevant library for drawing\n",
        "import ColabTurtle.Turtle as turtle\n",
        "\n",
        "#speed for line\n",
        "turtle.initializeTurtle(initial_speed=7)  \n",
        "\n",
        "#Declare and initialize the variable\n",
        "pen_colour = \"yellow\"\n",
        "line_length = 0\n",
        "angle = 0\n",
        "\n",
        "\n",
        "# Ask the user for their inputs\n",
        "pen_colour = input(\"Please enter your pen colour (black, blue, green, purple, red, white, yellow): \").lower()\n",
        "line_length = int(input(\"Please enter the length of your line (specify 0 to stop drawing): \"))\n",
        "angle = int(input(\"Please enter the angle (0-360): \"))\n",
        "\n",
        "#the while loop that specifies the conditions\n",
        "while line_length != 0:\n",
        "  turtle.color(pen_colour)\n",
        "  turtle.forward(line_length)\n",
        "  turtle.right(angle)\n",
        "  #enter nested loop to terminate first loop otherwise the it will run forever\n",
        "  #if the user enters 0 then they want to stop drawing\n",
        "  line_length = int(input(\"Please enter the length of your line (specify 0 to stop drawing): \"))\n",
        "  #otherwise ask for the pen colour and line length\n",
        "  if line_length != 0:\n",
        "    pen_colour = input(\"Please enter your pen colour (black, blue, green, purple, red, white, yellow): \").lower()\n",
        "    angle = int(input(\"Please enter the angle (0-360): \"))\n",
        "  \n",
        "#exit the loop and print output\n",
        "print(\"Your drawing is incredible!\")\n"
      ],
      "metadata": {
        "colab": {
          "base_uri": "https://localhost:8080/",
          "height": 560
        },
        "id": "VMf8Y9KktGra",
        "outputId": "df2e1739-1565-42bf-fafe-44a04a2e119c"
      },
      "execution_count": null,
      "outputs": [
        {
          "output_type": "display_data",
          "data": {
            "text/html": [
              "\n",
              "      <svg width=\"800\" height=\"500\">\n",
              "        <rect width=\"100%\" height=\"100%\" fill=\"black\"/>\n",
              "        \n",
              "        <g visibility=visible transform=\"rotate(360,400,250) translate(382, 232)\">\n",
              "<path style=\" stroke:none;fill-rule:evenodd;fill:white;fill-opacity:1;\" d=\"M 18.214844 0.632812 C 16.109375 1.800781 15.011719 4.074219 15.074219 7.132812 L 15.085938 7.652344 L 14.785156 7.496094 C 13.476562 6.824219 11.957031 6.671875 10.40625 7.066406 C 8.46875 7.550781 6.515625 9.15625 4.394531 11.992188 C 3.0625 13.777344 2.679688 14.636719 3.042969 15.027344 L 3.15625 15.152344 L 3.519531 15.152344 C 4.238281 15.152344 4.828125 14.886719 8.1875 13.039062 C 9.386719 12.378906 10.371094 11.839844 10.378906 11.839844 C 10.386719 11.839844 10.355469 11.929688 10.304688 12.035156 C 9.832031 13.09375 9.257812 14.820312 8.96875 16.078125 C 7.914062 20.652344 8.617188 24.53125 11.070312 27.660156 C 11.351562 28.015625 11.363281 27.914062 10.972656 28.382812 C 8.925781 30.84375 7.945312 33.28125 8.238281 35.1875 C 8.289062 35.527344 8.28125 35.523438 8.917969 35.523438 C 10.941406 35.523438 13.074219 34.207031 15.136719 31.6875 C 15.359375 31.417969 15.328125 31.425781 15.5625 31.574219 C 16.292969 32.042969 18.023438 32.964844 18.175781 32.964844 C 18.335938 32.964844 19.941406 32.210938 20.828125 31.71875 C 20.996094 31.625 21.136719 31.554688 21.136719 31.558594 C 21.203125 31.664062 21.898438 32.414062 22.222656 32.730469 C 23.835938 34.300781 25.5625 35.132812 27.582031 35.300781 C 27.90625 35.328125 27.9375 35.308594 28.007812 34.984375 C 28.382812 33.242188 27.625 30.925781 25.863281 28.425781 L 25.542969 27.96875 L 25.699219 27.785156 C 28.945312 23.960938 29.132812 18.699219 26.257812 11.96875 L 26.207031 11.84375 L 27.945312 12.703125 C 31.53125 14.476562 32.316406 14.800781 33.03125 14.800781 C 33.976562 14.800781 33.78125 13.9375 32.472656 12.292969 C 28.519531 7.355469 25.394531 5.925781 21.921875 7.472656 L 21.558594 7.636719 L 21.578125 7.542969 C 21.699219 6.992188 21.761719 5.742188 21.699219 5.164062 C 21.496094 3.296875 20.664062 1.964844 19.003906 0.855469 C 18.480469 0.503906 18.457031 0.5 18.214844 0.632812\"/>\n",
              "</g>\n",
              "      </svg>\n",
              "    "
            ],
            "text/plain": [
              "<IPython.core.display.HTML object>"
            ]
          },
          "metadata": {}
        }
      ]
    }
  ]
}