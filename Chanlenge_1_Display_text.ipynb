{
  "nbformat": 4,
  "nbformat_minor": 0,
  "metadata": {
    "colab": {
      "name": "Chanlenge_1_Display_text.ipynb",
      "provenance": [],
      "authorship_tag": "ABX9TyMnAOSTp2eLk3YZ8gKu+sf1",
      "include_colab_link": true
    },
    "kernelspec": {
      "name": "python3",
      "display_name": "Python 3"
    },
    "language_info": {
      "name": "python"
    }
  },
  "cells": [
    {
      "cell_type": "markdown",
      "metadata": {
        "id": "view-in-github",
        "colab_type": "text"
      },
      "source": [
        "<a href=\"https://colab.research.google.com/github/FestusCJ/Programming-With-Python/blob/master/Chanlenge_1_Display_text.ipynb\" target=\"_parent\"><img src=\"https://colab.research.google.com/assets/colab-badge.svg\" alt=\"Open In Colab\"/></a>"
      ]
    },
    {
      "cell_type": "code",
      "execution_count": 8,
      "metadata": {
        "colab": {
          "base_uri": "https://localhost:8080/"
        },
        "id": "iJ7Qyz1Wq0pn",
        "outputId": "3858c95d-eeab-42ea-e3cf-8c1543b00990"
      },
      "outputs": [
        {
          "output_type": "stream",
          "name": "stdout",
          "text": [
            "There once was a movie star icon\n",
            "who preferred to sleep with the light on. \n",
            "They learned how to code \n",
            "a device that sure glowed \n",
            "and lit up the night using Python!\n"
          ]
        }
      ],
      "source": [
        "#Display text\n",
        "#Write a code that will display the text below\n",
        "#There once was a movie star icon\n",
        "#who preferred to sleep with the light on.\n",
        "#They learned how to code\n",
        "#a device that sure glowed\n",
        "#and lit up the night using Python!\n",
        "\n",
        "\n",
        "poem = (\"\"\"There once was a movie star icon\n",
        "who preferred to sleep with the light on. \n",
        "They learned how to code \n",
        "a device that sure glowed \n",
        "and lit up the night using Python!\"\"\")\n",
        "\n",
        "print(poem)"
      ]
    },
    {
      "cell_type": "code",
      "source": [
        ""
      ],
      "metadata": {
        "id": "AE5nfaujsr9Q"
      },
      "execution_count": null,
      "outputs": []
    }
  ]
}