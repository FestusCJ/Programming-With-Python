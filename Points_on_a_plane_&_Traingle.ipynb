{
  "nbformat": 4,
  "nbformat_minor": 0,
  "metadata": {
    "colab": {
      "name": "Points_on_a_plane_&_Traingle.ipynb",
      "provenance": [],
      "authorship_tag": "ABX9TyNAd73lTnMlv6AGE2xPEnEe",
      "include_colab_link": true
    },
    "kernelspec": {
      "name": "python3",
      "display_name": "Python 3"
    },
    "language_info": {
      "name": "python"
    }
  },
  "cells": [
    {
      "cell_type": "markdown",
      "metadata": {
        "id": "view-in-github",
        "colab_type": "text"
      },
      "source": [
        "<a href=\"https://colab.research.google.com/github/FestusCJ/Programming-With-Python/blob/master/Points_on_a_plane_%26_Traingle.ipynb\" target=\"_parent\"><img src=\"https://colab.research.google.com/assets/colab-badge.svg\" alt=\"Open In Colab\"/></a>"
      ]
    },
    {
      "cell_type": "markdown",
      "source": [
        "Scenario\n",
        "Let's visit a very special place - a plane with the Cartesian coordinate system (you can learn more about this concept here: https://en.wikipedia.org/wiki/Cartesian_coordinate_system).\n",
        "\n",
        "Each point located on the plane can be described as a pair of coordinates customarily called x and y. We expect that you are able to write a Python class which stores both coordinates as float numbers. Moreover, we want the objects of this class to evaluate the distances between any of the two points situated on the plane.\n",
        "\n",
        "The task is rather easy if you employ the function named hypot() (available through the math module) which evaluates the length of the hypotenuse of a right triangle (more details here: https://en.wikipedia.org/wiki/Hypotenuse) and here: https://docs.python.org/3.7/library/math.html#trigonometric-functions.\n",
        "\n",
        "This is how we imagine the class:\n",
        "\n",
        "it's called Point;\n",
        "its constructor accepts two arguments (x and y respectively), both default to zero;\n",
        "all the properties should be private;\n",
        "the class contains two parameterless methods called getx() and gety(), which return each of the two coordinates (the coordinates are stored privately, so they cannot be accessed directly from within the object);\n",
        "the class provides a method called distance_from_xy(x,y), which calculates and returns the distance between the point stored inside the object and the other point given as a pair of floats;\n",
        "the class provides a method called distance_from_point(point), which calculates the distance (like the previous method), but the other point's location is given as another Point class object;\n",
        "Complete the template we've provided in the editor and run your code and check whether your output looks the same as ours.\n",
        "\n",
        "Expected output\n",
        "1.4142135623730951\n",
        "1.4142135623730951"
      ],
      "metadata": {
        "id": "weXYpFPbCZTF"
      }
    },
    {
      "cell_type": "code",
      "execution_count": 1,
      "metadata": {
        "colab": {
          "base_uri": "https://localhost:8080/"
        },
        "id": "yoN3DpB8CMN9",
        "outputId": "cc489f06-dd4e-40ba-e43a-6dda74ef8cac"
      },
      "outputs": [
        {
          "output_type": "stream",
          "name": "stdout",
          "text": [
            "1.4142135623730951\n",
            "1.4142135623730951\n"
          ]
        }
      ],
      "source": [
        "import math\n",
        "\n",
        "class Point:\n",
        "    def __init__(self, x=0.0, y=0.0):\n",
        "        self.__x = x\n",
        "        self.__y = y\n",
        "    \n",
        "    def getx(self):\n",
        "        return self.__x\n",
        "    \n",
        "    def gety(self):\n",
        "        return self.__y\n",
        "        \n",
        "    def distance_from_xy(self, x, y):\n",
        "        return math.hypot((x - self.getx()),(y - self.gety()))\n",
        "        \n",
        "    def distance_from_point(self, point):\n",
        "        return math.hypot((point.getx()-self.getx()),(point.gety()-self.gety()))\n",
        "\n",
        "point1 = Point(0,0)\n",
        "point2 = Point(1,1)\n",
        "print(point1.distance_from_point(point2))\n",
        "print(point2.distance_from_xy(2,0))"
      ]
    },
    {
      "cell_type": "markdown",
      "source": [
        "Scenario\n",
        "Now we're going to embed the Point class (see Lab 3.4.1.14) inside another class. Also, we're going to put three points into one class, which will let us define a triangle. How can we do it?\n",
        "\n",
        "The new class will be called Triangle and this is the list of our expectations:\n",
        "\n",
        "the constructor accepts three arguments - all of them are objects of the Point class;\n",
        "the points are stored inside the object as a private list;\n",
        "the class provides a parameterless method called perimeter(), which calculates the perimeter of the triangle described by the three points; the perimeter is a sum of all legs' lengths (we mention it for the record, although we are sure that you know it perfectly yourself.)\n",
        "Complete the template we've provided in the editor. Run your code and check whether the evaluated perimeter is the same as ours.\n",
        "\n",
        "\n",
        "Expected output\n",
        "3.414213562373095"
      ],
      "metadata": {
        "id": "hopikw4ADd0K"
      }
    },
    {
      "cell_type": "code",
      "source": [
        "class Triangle:\n",
        "    def __init__(self, vertice1, vertice2, vertice3):\n",
        "        self.__point1 = vertice1\n",
        "        self.__point2 = vertice2\n",
        "        self.__point3 = vertice3\n",
        "    \n",
        "    def perimeter(self):\n",
        "        self.__leg1 = self.__point1.distance_from_point(self.__point2)\n",
        "        self.__leg2 = self.__point1.distance_from_point(self.__point3)\n",
        "        self.__leg3 = self.__point2.distance_from_point(self.__point3)\n",
        "        self.__leg = self.__leg1 + self.__leg2 + self.__leg3\n",
        "        return self.__leg\n",
        "    \n",
        "triangle = Triangle(Point(0, 0), Point(1, 0), Point(0, 1))\n",
        "print(triangle.perimeter())"
      ],
      "metadata": {
        "colab": {
          "base_uri": "https://localhost:8080/"
        },
        "id": "aIVt2IbyDxGE",
        "outputId": "76357274-86e4-4ea6-a61a-bb124c4b6eca"
      },
      "execution_count": 2,
      "outputs": [
        {
          "output_type": "stream",
          "name": "stdout",
          "text": [
            "3.414213562373095\n"
          ]
        }
      ]
    }
  ]
}