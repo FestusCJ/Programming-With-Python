{
  "nbformat": 4,
  "nbformat_minor": 0,
  "metadata": {
    "colab": {
      "name": "Reading_Integers_Safely.ipynb",
      "provenance": [],
      "authorship_tag": "ABX9TyNhscMbJW6W6OMTxr4SR577",
      "include_colab_link": true
    },
    "kernelspec": {
      "name": "python3",
      "display_name": "Python 3"
    },
    "language_info": {
      "name": "python"
    }
  },
  "cells": [
    {
      "cell_type": "markdown",
      "metadata": {
        "id": "view-in-github",
        "colab_type": "text"
      },
      "source": [
        "<a href=\"https://colab.research.google.com/github/FestusCJ/Programming-With-Python/blob/master/Reading_Integers_Safely.ipynb\" target=\"_parent\"><img src=\"https://colab.research.google.com/assets/colab-badge.svg\" alt=\"Open In Colab\"/></a>"
      ]
    },
    {
      "cell_type": "code",
      "execution_count": null,
      "metadata": {
        "id": "G-r3xIn1hUSA"
      },
      "outputs": [],
      "source": [
        ""
      ]
    },
    {
      "cell_type": "markdown",
      "source": [
        "Scenario\n",
        "Your task is to write a function able to input integer values and to check if they are within a specified range.\n",
        "\n",
        "The function should:\n",
        "\n",
        "accept three arguments: a prompt, a low acceptable limit, and a high acceptable limit;\n",
        "if the user enters a string that is not an integer value, the function should emit the message Error: wrong input, and ask the user to input the value again;\n",
        "if the user enters a number which falls outside the specified range, the function should emit the message Error: the value is not within permitted range (min..max) and ask the user to input the value again;\n",
        "if the input value is valid, return it as a result.\n",
        "Test data\n",
        "Test your code carefully.\n",
        "\n",
        "This is how the function should react to the user's input:\n",
        "\n",
        "Enter a number from -10 to 10: 100\n",
        "Error: the value is not within permitted range (-10..10)\n",
        "Enter a number from -10 to 10: asd\n",
        "Error: wrong input\n",
        "Enter number from -10 to 10: 1\n",
        "The number is: 1"
      ],
      "metadata": {
        "id": "yESW73wWhWdI"
      }
    },
    {
      "cell_type": "code",
      "source": [
        "def readint(prompt, min, max):\n",
        "    doIt = True\n",
        "    while doIt:\n",
        "    \n",
        "        try:\n",
        "            userInput = int(input(prompt))\n",
        "            if userInput in range(min, max+1):\n",
        "                return userInput\n",
        "                doIt = False\n",
        "            else:\n",
        "                raise AssertionError\n",
        "        except ValueError:\n",
        "            print(\"Error: wrong input.\")\n",
        "        except AssertionError:\n",
        "            print(\"The value is not within the permitted range (-10..10)\") \n",
        "        except:\n",
        "            doIt = True\n",
        "        \n",
        "v = readint(\"Enter a number from -10 to 10: \", -10, 10)\n",
        "\n",
        "print(\"The number is:\", v)"
      ],
      "metadata": {
        "colab": {
          "base_uri": "https://localhost:8080/"
        },
        "id": "-qDfOn5AhXm2",
        "outputId": "b0714681-5ce1-47b7-cbfb-6435b52dec4b"
      },
      "execution_count": 1,
      "outputs": [
        {
          "output_type": "stream",
          "name": "stdout",
          "text": [
            "Enter a number from -10 to 10: 100\n",
            "The value is not within the permitted range (-10..10)\n",
            "Enter a number from -10 to 10: asd\n",
            "Error: wrong input.\n",
            "Enter a number from -10 to 10: 1\n",
            "The number is: 1\n"
          ]
        }
      ]
    },
    {
      "cell_type": "markdown",
      "source": [
        "Another code"
      ],
      "metadata": {
        "id": "KevZjTzshln4"
      }
    },
    {
      "cell_type": "code",
      "source": [
        "def readint(prompt, minimum, maximum):\n",
        "    while True:\n",
        "        try:\n",
        "            value = int(input(prompt))\n",
        "            assert minimum <= value <= maximum\n",
        "            prompt = \"Try again: \"\n",
        "        except ValueError:\n",
        "            print(\"Error: Not an integer\")\n",
        "        except AssertionError:\n",
        "            print(\"Error: Value not within range\")\n",
        "        else:\n",
        "            break\n",
        "    return value\n",
        "\n",
        "minimum = -10\n",
        "maximum = 10\n",
        "\n",
        "value = readint(f\"Enter a number between {minimum} and {maximum}: \", minimum, maximum)\n",
        "\n",
        "print(\"The number is:\", value)"
      ],
      "metadata": {
        "colab": {
          "base_uri": "https://localhost:8080/"
        },
        "id": "Kn5HYEoLho6F",
        "outputId": "aa5e7791-e620-4c35-8320-5b06140b74b7"
      },
      "execution_count": 3,
      "outputs": [
        {
          "output_type": "stream",
          "name": "stdout",
          "text": [
            "Enter a number between -10 and 10: 100\n",
            "Error: Value not within range\n",
            "Enter a number between -10 and 10: asd\n",
            "Error: Not an integer\n",
            "Enter a number between -10 and 10: 1\n",
            "The number is: 1\n"
          ]
        }
      ]
    }
  ]
}