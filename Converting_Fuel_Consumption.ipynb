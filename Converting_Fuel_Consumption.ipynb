{
  "nbformat": 4,
  "nbformat_minor": 0,
  "metadata": {
    "colab": {
      "name": "Converting_Fuel_Consumption.ipynb",
      "provenance": [],
      "authorship_tag": "ABX9TyMmrA+snH9gQ46CN2jX6Axo",
      "include_colab_link": true
    },
    "kernelspec": {
      "name": "python3",
      "display_name": "Python 3"
    },
    "language_info": {
      "name": "python"
    }
  },
  "cells": [
    {
      "cell_type": "markdown",
      "metadata": {
        "id": "view-in-github",
        "colab_type": "text"
      },
      "source": [
        "<a href=\"https://colab.research.google.com/github/FestusCJ/Programming-With-Python/blob/master/Converting_Fuel_Consumption.ipynb\" target=\"_parent\"><img src=\"https://colab.research.google.com/assets/colab-badge.svg\" alt=\"Open In Colab\"/></a>"
      ]
    },
    {
      "cell_type": "markdown",
      "source": [
        "Scenario\n",
        "\n",
        "A car's fuel consumption may be expressed in many different ways. For example, in Europe, it is shown as the amount of fuel consumed per 100 kilometers.\n",
        "\n",
        "In the USA, it is shown as the number of miles traveled by a car using one gallon of fuel.\n",
        "\n",
        "Your task is to write a pair of functions converting l/100km into mpg, and vice versa.\n",
        "\n",
        "The functions:\n",
        "\n",
        "are named liters_100km_to_miles_gallon and miles_gallon_to_liters_100km respectively;\n",
        "take one argument (the value corresponding to their names)\n",
        "Complete the code in the editor.\n",
        "\n",
        "Run your code and check whether your output is the same as ours.\n",
        "\n",
        "Here is some information to help you:\n",
        "\n",
        "1 American mile = 1609.344 metres;\n",
        "1 American gallon = 3.785411784 litres.\n",
        "Expected output\n",
        "\n",
        "60.31143162393162\n",
        "\n",
        "31.36194444444444\n",
        "\n",
        "23.52145833333333\n",
        "\n",
        "3.9007393587617467\n",
        "\n",
        "7.490910297239916\n",
        "\n",
        "10.009131205673757"
      ],
      "metadata": {
        "id": "6pIdk9iY8kGR"
      }
    },
    {
      "cell_type": "code",
      "execution_count": 1,
      "metadata": {
        "colab": {
          "base_uri": "https://localhost:8080/"
        },
        "id": "HQNeMqRm8hle",
        "outputId": "013ca74a-9112-460c-ae08-f5b296dc62a2"
      },
      "outputs": [
        {
          "output_type": "stream",
          "name": "stdout",
          "text": [
            "60.31143162393162\n",
            "31.36194444444444\n",
            "23.52145833333333\n",
            "3.9007393587617467\n",
            "7.490910297239915\n",
            "10.009131205673757\n"
          ]
        }
      ],
      "source": [
        "def liters_100km_to_miles_gallon(liters):\n",
        "    liters = (1000/1609.344)/(liters/(100*3.785411784))\n",
        "    return liters\n",
        "\n",
        "\n",
        "def miles_gallon_to_liters_100km(miles):\n",
        "    miles = (3.785411784/(miles*1609.344))*100*1000\n",
        "    return miles\n",
        "\n",
        "\n",
        "print(liters_100km_to_miles_gallon(3.9))\n",
        "print(liters_100km_to_miles_gallon(7.5))\n",
        "print(liters_100km_to_miles_gallon(10.))\n",
        "print(miles_gallon_to_liters_100km(60.3))\n",
        "print(miles_gallon_to_liters_100km(31.4))\n",
        "print(miles_gallon_to_liters_100km(23.5))\n"
      ]
    }
  ]
}