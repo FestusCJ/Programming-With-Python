{
  "nbformat": 4,
  "nbformat_minor": 0,
  "metadata": {
    "colab": {
      "name": "A_Leap_Year- Writing_Functions.ipynb",
      "provenance": [],
      "authorship_tag": "ABX9TyO6QbLfQiFDJ60A9ZsTL8by",
      "include_colab_link": true
    },
    "kernelspec": {
      "name": "python3",
      "display_name": "Python 3"
    },
    "language_info": {
      "name": "python"
    }
  },
  "cells": [
    {
      "cell_type": "markdown",
      "metadata": {
        "id": "view-in-github",
        "colab_type": "text"
      },
      "source": [
        "<a href=\"https://colab.research.google.com/github/FestusCJ/Programming-With-Python/blob/master/A_Leap_Year_Writing_Functions.ipynb\" target=\"_parent\"><img src=\"https://colab.research.google.com/assets/colab-badge.svg\" alt=\"Open In Colab\"/></a>"
      ]
    },
    {
      "cell_type": "markdown",
      "source": [
        "Scenario\n",
        "Your task is to write and test a function which takes one argument (a year) and returns True if the year is a leap year, or False otherwise."
      ],
      "metadata": {
        "id": "F-vV1RYJC2OV"
      }
    },
    {
      "cell_type": "code",
      "source": [
        "def is_year_leap(year):\n",
        "      leap = False\n",
        "      if (year % 4 == 0) and (year % 100 != 0):\n",
        "          leap = True\n",
        "      elif (year % 100 == 0) and (year % 400 != 0):\n",
        "          leap = False\n",
        "      elif (year % 400 == 0):\n",
        "          leap = True\n",
        "      else:\n",
        "          leap = False\n",
        "    \n",
        "      return leap\n",
        "    \n",
        "\n",
        "test_data = [1900, 2000, 2016, 1987]\n",
        "test_results = [False, True, True, False]\n",
        "for i in range(len(test_data)):\n",
        "\tyr = test_data[i]\n",
        "\tprint(yr,\"->\",end=\"\")\n",
        "\tresult = is_year_leap(yr)\n",
        "\tif result == test_results[i]:\n",
        "\t\tprint(\"OK\")\n",
        "\telse:\n",
        "\t\tprint(\"Failed\")\n"
      ],
      "metadata": {
        "colab": {
          "base_uri": "https://localhost:8080/"
        },
        "id": "npMDdY9qC5E-",
        "outputId": "168c66fa-7bdb-4996-a7fb-e787bcb9ce45"
      },
      "execution_count": 1,
      "outputs": [
        {
          "output_type": "stream",
          "name": "stdout",
          "text": [
            "1900 ->OK\n",
            "2000 ->OK\n",
            "2016 ->OK\n",
            "1987 ->OK\n"
          ]
        }
      ]
    }
  ]
}