{
  "nbformat": 4,
  "nbformat_minor": 0,
  "metadata": {
    "colab": {
      "name": "Digit_Of_Life.ipynb",
      "provenance": [],
      "authorship_tag": "ABX9TyPHBmnvXoC1pvcRfHztG0E3",
      "include_colab_link": true
    },
    "kernelspec": {
      "name": "python3",
      "display_name": "Python 3"
    },
    "language_info": {
      "name": "python"
    }
  },
  "cells": [
    {
      "cell_type": "markdown",
      "metadata": {
        "id": "view-in-github",
        "colab_type": "text"
      },
      "source": [
        "<a href=\"https://colab.research.google.com/github/FestusCJ/Programming-With-Python/blob/master/Digit_Of_Life.ipynb\" target=\"_parent\"><img src=\"https://colab.research.google.com/assets/colab-badge.svg\" alt=\"Open In Colab\"/></a>"
      ]
    },
    {
      "cell_type": "markdown",
      "source": [
        "Scenario\n",
        "Some say that the Digit of Life is a digit evaluated using somebody's birthday. It's simple - you just need to sum all the digits of the date. If the result contains more than one digit, you have to repeat the addition until you get exactly one digit. For example:\n",
        "\n",
        "1 January 2017 = 2017 01 01\n",
        "2 + 0 + 1 + 7 + 0 + 1 + 0 + 1 = 12\n",
        "1 + 2 = 3\n",
        "3 is the digit we searched for and found.\n",
        "\n",
        "Your task is to write a program which:\n",
        "\n",
        "asks the user her/his birthday (in the format YYYYMMDD, or YYYYDDMM, or MMDDYYYY - actually, the order of the digits doesn't matter)\n",
        "outputs the Digit of Life for the date.\n",
        "Test your code using the data we've provided.\n",
        "\n",
        "Test data\n",
        "Sample input:\n",
        "\n",
        "19991229\n",
        "\n",
        "Sample output:\n",
        "\n",
        "6\n",
        "\n",
        "\n",
        "Sample input:\n",
        "\n",
        "20000101\n",
        "\n",
        "Sample output:\n",
        "\n",
        "4"
      ],
      "metadata": {
        "id": "Ls4o5NeBZH9W"
      }
    },
    {
      "cell_type": "code",
      "source": [
        "def digitoflife(date):\n",
        "    if len(date) > 8:\n",
        "        print(\"date inputed is long\")\n",
        "    else:\n",
        "        num = num2 = 0\n",
        "        for digit in date:\n",
        "            num += int(digit)\n",
        "        for i in str(num):\n",
        "                num2 += int(i)\n",
        "        return num2\n",
        "date = str(input('Enter the date: '))\n",
        "print(\"The digit of life is: \",digitoflife(date))"
      ],
      "metadata": {
        "colab": {
          "base_uri": "https://localhost:8080/"
        },
        "id": "i-ssCa9Ca7Pp",
        "outputId": "54830a54-2490-4ca1-9e0c-2c98677eb12a"
      },
      "execution_count": 2,
      "outputs": [
        {
          "output_type": "stream",
          "name": "stdout",
          "text": [
            "Enter the date: 20000101\n",
            "The digit of life is:  4\n"
          ]
        }
      ]
    },
    {
      "cell_type": "code",
      "source": [
        "def split(word):\n",
        "    return [char for char in word]\n",
        "\n",
        "date = input(\"Enter your date of birth in YYYYMMDD format: > \")\n",
        "sum_list = []\n",
        "\n",
        "def digitOfLife(date):\n",
        "    sum = 0\n",
        "    if(len(date) > 8):\n",
        "        print(\"Input data too long\")\n",
        "        return\n",
        "    else:\n",
        "        date_list = []\n",
        "        for char in date:\n",
        "            date_list.append(int(char))\n",
        "            \n",
        "        for num in date_list:\n",
        "            sum+=num\n",
        "            if sum > 9:\n",
        "                sum = sum%10 +sum//10\n",
        "    return sum\n",
        "    \n",
        "print(digitOfLife(date))"
      ],
      "metadata": {
        "colab": {
          "base_uri": "https://localhost:8080/"
        },
        "id": "kJFrm7IdbF6d",
        "outputId": "3399ee05-45e1-48f9-e6dc-16c56247e09d"
      },
      "execution_count": 5,
      "outputs": [
        {
          "output_type": "stream",
          "name": "stdout",
          "text": [
            "Enter your date of birth in YYYYMMDD format: > 19991229\n",
            "6\n"
          ]
        }
      ]
    }
  ]
}