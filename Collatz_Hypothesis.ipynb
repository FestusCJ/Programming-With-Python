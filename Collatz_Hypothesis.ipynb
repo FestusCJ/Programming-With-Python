{
  "nbformat": 4,
  "nbformat_minor": 0,
  "metadata": {
    "colab": {
      "name": "Collatz_Hypothesis.ipynb",
      "provenance": [],
      "authorship_tag": "ABX9TyO5QNakCwia5QNRmsOycDhg",
      "include_colab_link": true
    },
    "kernelspec": {
      "name": "python3",
      "display_name": "Python 3"
    },
    "language_info": {
      "name": "python"
    }
  },
  "cells": [
    {
      "cell_type": "markdown",
      "metadata": {
        "id": "view-in-github",
        "colab_type": "text"
      },
      "source": [
        "<a href=\"https://colab.research.google.com/github/FestusCJ/Programming-With-Python/blob/master/Collatz_Hypothesis.ipynb\" target=\"_parent\"><img src=\"https://colab.research.google.com/assets/colab-badge.svg\" alt=\"Open In Colab\"/></a>"
      ]
    },
    {
      "cell_type": "markdown",
      "source": [
        "Scenario\n",
        "In 1937, a German mathematician named Lothar Collatz formulated an intriguing hypothesis (it still remains unproven) which can be described in the following way:\n",
        "\n",
        "take any non-negative and non-zero integer number and name it c0;\n",
        "if it's even, evaluate a new c0 as c0 ÷ 2;\n",
        "otherwise, if it's odd, evaluate a new c0 as 3 × c0 + 1;\n",
        "if c0 ≠ 1, skip to point 2.\n",
        "The hypothesis says that regardless of the initial value of c0, it will always go to 1.\n",
        "\n",
        "Of course, it's an extremely complex task to use a computer in order to prove the hypothesis for any natural number (it may even require artificial intelligence), but you can use Python to check some individual numbers. Maybe you'll even find the one which would disprove the hypothesis.\n",
        "\n",
        "\n",
        "Write a program which reads one natural number and executes the above steps as long as c0 remains different from 1. We also want you to count the steps needed to achieve the goal. Your code should output all the intermediate values of c0, too.\n",
        "\n",
        "Hint: the most important part of the problem is how to transform Collatz's idea into a while loop - this is the key to success."
      ],
      "metadata": {
        "id": "jugya2d9-lpg"
      }
    },
    {
      "cell_type": "code",
      "source": [
        "#Initialize and declare the number of steps\n",
        "steps = 0\n",
        "#Ask the user for an input\n",
        "c0 = int(input(\"Enter a number (non-negative and non-zero integer): \"))\n",
        "\n",
        "while c0 != 1:\n",
        "  if c0 % 2 == 0:\n",
        "    c0 = c0 / 2\n",
        "    print(int(c0))\n",
        "    steps +=1\n",
        "  else:\n",
        "    c0 = 3 * c0 + 1\n",
        "    print(int(c0))\n",
        "    steps +=1\n",
        "\n",
        "print(\"steps: \", steps)"
      ],
      "metadata": {
        "id": "JjHHQD5y-nxk"
      },
      "execution_count": null,
      "outputs": []
    }
  ]
}