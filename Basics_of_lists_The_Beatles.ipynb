{
  "nbformat": 4,
  "nbformat_minor": 0,
  "metadata": {
    "colab": {
      "name": "Basics_of_lists-The_Beatles.ipynb",
      "provenance": [],
      "authorship_tag": "ABX9TyO8a3e9HI4GFaYEkmUoT4R/",
      "include_colab_link": true
    },
    "kernelspec": {
      "name": "python3",
      "display_name": "Python 3"
    },
    "language_info": {
      "name": "python"
    }
  },
  "cells": [
    {
      "cell_type": "markdown",
      "metadata": {
        "id": "view-in-github",
        "colab_type": "text"
      },
      "source": [
        "<a href=\"https://colab.research.google.com/github/FestusCJ/Programming-With-Python/blob/master/Basics_of_lists_The_Beatles.ipynb\" target=\"_parent\"><img src=\"https://colab.research.google.com/assets/colab-badge.svg\" alt=\"Open In Colab\"/></a>"
      ]
    },
    {
      "cell_type": "markdown",
      "source": [
        "Scenario\n",
        "The Beatles were one of the most popular music group of the 1960s, and the best-selling band in history. Some people consider them to be the most influential act of the rock era. Indeed, they were included in Time magazine's compilation of the 20th Century's 100 most influential people.\n",
        "\n",
        "The band underwent many line-up changes, culminating in 1962 with the line-up of John Lennon, Paul McCartney, George Harrison, and Richard Starkey (better known as Ringo Starr).\n",
        "\n",
        "\n",
        "Write a program that reflects these changes and lets you practice with the concept of lists. Your task is to:\n",
        "\n",
        "step 1: create an empty list named beatles;\n",
        "step 2: use the append() method to add the following members of the band to the list: John Lennon, Paul McCartney, and George Harrison;\n",
        "step 3: use the for loop and the append() method to prompt the user to add the following members of the band to the list: Stu Sutcliffe, and Pete Best;\n",
        "step 4: use the del instruction to remove Stu Sutcliffe and Pete Best from the list;\n",
        "step 5: use the insert() method to add Ringo Starr to the beginning of the list."
      ],
      "metadata": {
        "id": "uAyQwKdGcQ55"
      }
    },
    {
      "cell_type": "code",
      "source": [
        "# step 1 Create an empty list beatles\n",
        "beatles = []\n",
        "print(\"Step 1:\", beatles)\n",
        "\n",
        "# step 2 add members to the list\n",
        "beatles.append(\"John Lennon\")\n",
        "beatles.append(\"Paul McCartney\")\n",
        "beatles.append(\"George Harrison\")\n",
        "print(\"Step 2:\", beatles)\n",
        "\n",
        "# step 3 prompt user to add names to list\n",
        "name = \"\"\n",
        "\n",
        "for i in range(2):\n",
        "    name = input(\"Enter the name of a band member: \")\n",
        "    beatles.append(name)\n",
        "    \n",
        "print(\"Step 3:\", beatles)\n",
        "\n",
        "# step 4 delete the members added in the last step\n",
        "del beatles[4]\n",
        "del beatles[3]\n",
        "print(\"Step 4:\", beatles)\n",
        "\n",
        "# step 5 add new memebr to beginning of list\n",
        "beatles.insert(0, \"Ringo Starr\")\n",
        "print(\"Step 5:\", beatles)"
      ],
      "metadata": {
        "id": "-yEbEgzRcS6e"
      },
      "execution_count": null,
      "outputs": []
    }
  ]
}