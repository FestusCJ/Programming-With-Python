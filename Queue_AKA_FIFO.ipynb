{
  "nbformat": 4,
  "nbformat_minor": 0,
  "metadata": {
    "colab": {
      "name": "Queue_AKA_FIFO.ipynb",
      "provenance": [],
      "authorship_tag": "ABX9TyPcDU3NAIIH9W6lCsGESSs7",
      "include_colab_link": true
    },
    "kernelspec": {
      "name": "python3",
      "display_name": "Python 3"
    },
    "language_info": {
      "name": "python"
    }
  },
  "cells": [
    {
      "cell_type": "markdown",
      "metadata": {
        "id": "view-in-github",
        "colab_type": "text"
      },
      "source": [
        "<a href=\"https://colab.research.google.com/github/FestusCJ/Programming-With-Python/blob/master/Queue_AKA_FIFO.ipynb\" target=\"_parent\"><img src=\"https://colab.research.google.com/assets/colab-badge.svg\" alt=\"Open In Colab\"/></a>"
      ]
    },
    {
      "cell_type": "markdown",
      "source": [
        "Scenario\n",
        "As you already know, a stack is a data structure realizing the so-called LIFO (Last In - First Out) model. It's easy and you've already grown perfectly accustomed to it.\n",
        "\n",
        "Let's taste something new now. A queue is a data model characterized by the term FIFO: First In - Fist Out. Note: a regular queue (line) you know from shops or post offices works exactly in the same way - a customer who came first is served first too.\n",
        "\n",
        "Your task is to implement the Queue class with two basic operations:\n",
        "\n",
        "put(element), which puts an element at end of the queue;\n",
        "get(), which takes an element from the front of the queue and returns it as the result (the queue cannot be empty to successfully perform it.)\n",
        "Follow the hints:\n",
        "\n",
        "use a list as your storage (just like we did in stack)\n",
        "put() should append elements to the beginning of the list, while get() should remove the elements from the list's end;\n",
        "define a new exception named QueueError (choose an exception to derive it from) and raise it when get() tries to operate on an empty list.\n",
        "Complete the code we've provided in the editor. Run it to check whether its output is similar to ours.\n",
        "\n",
        "Expected output\n",
        "1\n",
        "dog\n",
        "False\n",
        "Queue error\n",
        "\n",
        "```\n",
        "# This is formatted as code\n",
        "```\n",
        "\n"
      ],
      "metadata": {
        "id": "1ct5c_V4HeLU"
      }
    },
    {
      "cell_type": "code",
      "execution_count": 1,
      "metadata": {
        "colab": {
          "base_uri": "https://localhost:8080/"
        },
        "id": "iFc-AYemHY-8",
        "outputId": "3f8a3998-fe17-4c58-f07f-f2c6a91b2684"
      },
      "outputs": [
        {
          "output_type": "stream",
          "name": "stdout",
          "text": [
            "1\n",
            "dog\n",
            "False\n",
            "Queue error\n"
          ]
        }
      ],
      "source": [
        "class QueueError(IndexError):\n",
        "    pass\n",
        "\n",
        "\n",
        "class Queue:\n",
        "    def __init__(self):\n",
        "        self.queue = []\n",
        "    def put(self,elem):\n",
        "        self.queue.insert(0,elem)\n",
        "    def get(self):\n",
        "        if len(self.queue) > 0:\n",
        "            elem = self.queue[-1]\n",
        "            del self.queue[-1]\n",
        "            return elem\n",
        "        else:\n",
        "            raise QueueError\n",
        "\n",
        "que = Queue()\n",
        "que.put(1)\n",
        "que.put(\"dog\")\n",
        "que.put(False)\n",
        "try:\n",
        "    for i in range(4):\n",
        "        print(que.get())\n",
        "except:\n",
        "    print(\"Queue error\")\n"
      ]
    },
    {
      "cell_type": "markdown",
      "source": [
        "Scenario\n",
        "Your task is to slightly extend the Queue class' capabilities. We want it to have a parameterless method that returns True if the queue is empty and False otherwise.\n",
        "\n",
        "Complete the code we've provided in the editor. Run it to check whether it outputs a similar result to ours.\n",
        "\n",
        "\n",
        "Expected output\n",
        "1\n",
        "dog\n",
        "False\n",
        "Queue empty"
      ],
      "metadata": {
        "id": "iaSKcc4_IKlZ"
      }
    },
    {
      "cell_type": "code",
      "source": [
        "class QueueError(IndexError):\n",
        "    # This is new exception to indicate that the queue is empty.\n",
        "    # May be raised during the invocation of the get() method.\n",
        "    pass\n",
        "\n",
        "\n",
        "class Queue:\n",
        "    # This class is a queue (FIFO) implementation\n",
        "    def __init__(self):\n",
        "        self.__queue = [] # This list contains queue values. This is private property\n",
        "\n",
        "    def put(self, elem):\n",
        "        # This method is for putting the next value into the queue (at the end of it)\n",
        "        self.__queue.insert(0, elem)\n",
        "\n",
        "    def get(self):\n",
        "        # This method is for getting the next (first in) value from the queue\n",
        "        try:\n",
        "            return self.__queue.pop()\n",
        "        except:              # This raises exception to indicate, that the queue is empty\n",
        "            raise QueueError # We cannot get the next item from the queue\n",
        "\n",
        "\n",
        "class SuperQueue(Queue):\n",
        "    # This class is an improved queue (FIFO) implementation\n",
        "    # Added parameterless method that returns True if the queue is empty and False otherwise.\n",
        "    def __init__(self):\n",
        "        Queue.__init__(self)\n",
        "        self.__count = 0       # A new property for counting elements in the queue\n",
        "        self.__isempty = True  # A new property for storing the state of the queue\n",
        "\n",
        "    def isempty(self):\n",
        "        # This method is for returning the state of the queue\n",
        "        return self.__isempty\n",
        "\n",
        "    def put(self, elem):\n",
        "        # This method overrides Queue.put(). It implements counting\n",
        "        # Queue.put() is for putting the next value into the queue (at the end of it)\n",
        "        self.__count += 1          # Do not forget to count\n",
        "        if self.__isempty == True: # If it is our first item\n",
        "            self.__isempty = False # Lower the flag \"__isempty\"\n",
        "        Queue.put(self, elem)      # And finally, put the item on the queue\n",
        "\n",
        "    def get(self):\n",
        "        # This method overrides Queue.get(). It implements counting\n",
        "        # Queue.get() is for getting the next (first in) value from the queue\n",
        "        self.__count -= 1          # Do not forget to count \n",
        "        if self.__count == 0:      # Indicates, that queue is empty\n",
        "            self.__isempty = True  # Raise the flag \"__isempty\"\n",
        "        try: return Queue.get(self)# Finally, try to put the item on the queue\n",
        "        except QueueError:         # If we cannot get the next item from the queue\n",
        "            self.__count = 0       # Reset counter\n",
        "            raise QueueError       # Reraise exception\n",
        "        \n",
        "\n",
        "# Main\n",
        "if __name__ == \"__main__\":\n",
        "    # Some code to test queue implementation\n",
        "    # Must return:\n",
        "    # 1\n",
        "    # dog\n",
        "    # False\n",
        "    # Queue empty\n",
        "\n",
        "    que = SuperQueue()\n",
        "    que.put(1)\n",
        "    que.put(\"dog\")\n",
        "    que.put(False)\n",
        "    for i in range(4):\n",
        "        if not que.isempty():\n",
        "            print(que.get())\n",
        "        else:\n",
        "            print(\"Queue empty\")\n"
      ],
      "metadata": {
        "colab": {
          "base_uri": "https://localhost:8080/"
        },
        "id": "XTu--lajIdB4",
        "outputId": "79a786ae-369f-4c7f-d4a7-7857041fa4a1"
      },
      "execution_count": 3,
      "outputs": [
        {
          "output_type": "stream",
          "name": "stdout",
          "text": [
            "1\n",
            "dog\n",
            "False\n",
            "Queue empty\n"
          ]
        }
      ]
    }
  ]
}