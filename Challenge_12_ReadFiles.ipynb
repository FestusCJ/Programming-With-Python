{
  "nbformat": 4,
  "nbformat_minor": 0,
  "metadata": {
    "colab": {
      "name": "Challenge_12_ReadFiles.ipynb",
      "provenance": [],
      "authorship_tag": "ABX9TyNUmwXYC5kKBU3NuEaYAIZV",
      "include_colab_link": true
    },
    "kernelspec": {
      "name": "python3",
      "display_name": "Python 3"
    },
    "language_info": {
      "name": "python"
    }
  },
  "cells": [
    {
      "cell_type": "markdown",
      "metadata": {
        "id": "view-in-github",
        "colab_type": "text"
      },
      "source": [
        "<a href=\"https://colab.research.google.com/github/FestusCJ/Programming-With-Python/blob/master/Challenge_12_ReadFiles.ipynb\" target=\"_parent\"><img src=\"https://colab.research.google.com/assets/colab-badge.svg\" alt=\"Open In Colab\"/></a>"
      ]
    },
    {
      "cell_type": "markdown",
      "source": [
        "Module 12 challenge (reading from files)\n",
        "Write a program that will print the names and ages of the guests in the guest list file you created in the last module\n",
        "•\tIf you didn’t do the last challenge, you can just create a file to read using Notepad that contains names and ages \n"
      ],
      "metadata": {
        "id": "0-7FQ6I4MPcU"
      }
    },
    {
      "cell_type": "code",
      "source": [
        "#Declare and hold the variable in a file specifying the accessmode\n",
        "fileName = \"GuestList.csv\"\n",
        "accessmode = \"w\"\n",
        "\n",
        "#open the file to \n",
        "myFile = open(fileName, accessmode)\n",
        "\n",
        "#write the guest names and ages into files\n",
        "myFile.write(\"Doyle McCarty, 27 \\n\")\n",
        "myFile.write(\"Jodi Mills, 25 \\n\")\n",
        "myFile.write(\"Nicholas Rose, 32 \\n\")\n",
        "myFile.write(\"Kian Goddard, 36 \\n\")\n",
        "myFile.write(\"Zuha Hanania, 26 \\n\")\n",
        "\n",
        "#close the file\n",
        "myFile.close()\n"
      ],
      "metadata": {
        "id": "hWPnpNWpQpKA"
      },
      "execution_count": 3,
      "outputs": []
    },
    {
      "cell_type": "code",
      "source": [
        "#import csv library\n",
        "import csv\n",
        "\n",
        "#Declare and hold the variable in a file specifying the accessmode\n",
        "fileName = \"GuestList.csv\"\n",
        "accessmode = \"r\"\n",
        "\n",
        "#use WITH and AS to open file so that it closes once the file has been read\n",
        "with open(fileName, accessmode) as myCSVFile:\n",
        "  \n",
        "  #read the file contents\n",
        "  #specify that we use comma to separate the values\n",
        "  fileData = csv.reader(myCSVFile, delimiter=\",\")\n",
        "\n",
        "  #for loop that will run once per row\n",
        "  for row in fileData:\n",
        "    #display a row at a time in a list format\n",
        "    print(row)\n",
        "\n",
        "    #display the entire row separating the values in the list with a comma ie using join function to format the output\n",
        "    print (', '.join(row))\n",
        "\n",
        "    #Creatung a nested loop to loop through the words in the row, display each indivudal value in each row\n",
        "    for value in row :\n",
        "      print(value + \"\\n\")\n",
        "\n",
        "#Close the file\n",
        "myCSVFile.close()\n"
      ],
      "metadata": {
        "id": "lDcxPhWaMcFx"
      },
      "execution_count": null,
      "outputs": []
    }
  ]
}