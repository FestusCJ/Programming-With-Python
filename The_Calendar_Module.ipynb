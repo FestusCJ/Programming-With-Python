{
  "nbformat": 4,
  "nbformat_minor": 0,
  "metadata": {
    "colab": {
      "name": "The_Calendar_Module.ipynb",
      "provenance": [],
      "authorship_tag": "ABX9TyO3niX5ZyJfMtPRjdxj6did",
      "include_colab_link": true
    },
    "kernelspec": {
      "name": "python3",
      "display_name": "Python 3"
    },
    "language_info": {
      "name": "python"
    }
  },
  "cells": [
    {
      "cell_type": "markdown",
      "metadata": {
        "id": "view-in-github",
        "colab_type": "text"
      },
      "source": [
        "<a href=\"https://colab.research.google.com/github/FestusCJ/Programming-With-Python/blob/master/The_Calendar_Module.ipynb\" target=\"_parent\"><img src=\"https://colab.research.google.com/assets/colab-badge.svg\" alt=\"Open In Colab\"/></a>"
      ]
    },
    {
      "cell_type": "markdown",
      "source": [
        "Scenario\n",
        "\n",
        "During this course, we looked at the Calendar class a bit. Your task is to extend its functionality with a new method called count_weekday_in_year, which takes a year and a weekday as parameters, and then returns the number of occurrences of a specific weekday in the year.\n",
        "\n",
        "Use the following tips:\n",
        "\n",
        "Create a class called MyCalendar that extends the Calendar class;\n",
        "create the count_weekday_in_year method with the year and weekday parameters. The weekday parameter should be a value between 0-6, where 0 is Monday and 6 is Sunday. The method should return the number of days as an integer;\n",
        "in your implementation, use the monthdays2calendar method of the Calendar class.\n",
        "The following are the expected results:\n",
        "\n",
        "Sample arguments\n",
        "\n",
        "year=2019, weekday=0\n",
        "\n",
        "Expected output\n",
        "\n",
        "52\n",
        "\n",
        "\n",
        "Sample arguments\n",
        "\n",
        "year=2000, weekday=6\n",
        "\n",
        "Expected output\n",
        "\n",
        "53\n",
        "\n"
      ],
      "metadata": {
        "id": "FNMZVA0BdSyr"
      }
    },
    {
      "cell_type": "code",
      "execution_count": 1,
      "metadata": {
        "colab": {
          "base_uri": "https://localhost:8080/"
        },
        "id": "KtpcQDYmdND1",
        "outputId": "414c0431-1979-4a89-817c-464385c8abd0"
      },
      "outputs": [
        {
          "output_type": "stream",
          "name": "stdout",
          "text": [
            "52\n",
            "53\n"
          ]
        }
      ],
      "source": [
        "import calendar\n",
        "\n",
        "class myCalendarException(Exception):\n",
        "    def __str__(self):\n",
        "        return \"Invalid weekday number. \"\n",
        "\n",
        "\n",
        "class myCalendar(calendar.Calendar):\n",
        "    def __init__(self):\n",
        "        super().__init__()\n",
        "\n",
        "    def count_weekday_in_year(self, year, weekday):\n",
        "        if weekday < 0 or weekday > 6:\n",
        "            raise myCalendarException\n",
        "        \n",
        "        self.__counts = 0\n",
        "        for mnum in range(1, 13):\n",
        "            mon = self.monthdays2calendar(year, mnum)\n",
        "            for week in mon:\n",
        "                for day in week:\n",
        "                    if day[0] != 0 and day[1] == weekday:\n",
        "                        self.__counts += 1\n",
        "        return self.__counts\n",
        "\n",
        "\n",
        "\n",
        "c = myCalendar()\n",
        "print(c.count_weekday_in_year(2019, 0))\n",
        "print(c.count_weekday_in_year(2000, 6))"
      ]
    }
  ]
}