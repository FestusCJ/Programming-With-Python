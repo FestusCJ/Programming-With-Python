{
  "nbformat": 4,
  "nbformat_minor": 0,
  "metadata": {
    "colab": {
      "name": "Challenge_7_Complex_decision.ipynb",
      "provenance": [],
      "authorship_tag": "ABX9TyNYbwvoSZ9F/19EWpNXY/qX",
      "include_colab_link": true
    },
    "kernelspec": {
      "name": "python3",
      "display_name": "Python 3"
    },
    "language_info": {
      "name": "python"
    }
  },
  "cells": [
    {
      "cell_type": "markdown",
      "metadata": {
        "id": "view-in-github",
        "colab_type": "text"
      },
      "source": [
        "<a href=\"https://colab.research.google.com/github/FestusCJ/Programming-With-Python/blob/master/Challenge_7_Complex_decision.ipynb\" target=\"_parent\"><img src=\"https://colab.research.google.com/assets/colab-badge.svg\" alt=\"Open In Colab\"/></a>"
      ]
    },
    {
      "cell_type": "code",
      "execution_count": null,
      "metadata": {
        "id": "E9EF7GBdJcEe"
      },
      "outputs": [],
      "source": [
        "# Challenge 7 (complex decisions with code)\n",
        "# Calculate the total to charge for an order from an online store in Canada\n",
        "#\tAsk user what country they are from and their order total\n",
        "#\tIf the user is from Canada, ask which province\n",
        "#\tIf the order is from outside Canada do not charge any taxes\n",
        "#\tIf the order was placed in Canada calculate tax based on the province\n",
        "#\tAlberta charge .05% General sales Tax (GST)\n",
        "#\tOntario, New Brunswick, Nova Scotia charge .13% Harmonized sales tax\n",
        "#\tAll other provinces charge .06% provincial sales tax + .05% GST tax\n",
        "#\tTell the user the total with taxes for their order\n",
        "\n",
        "\n",
        "# Declare and initialize variable\n",
        "country = \"\"\n",
        "province = \"\"\n",
        "total_order = 0\n",
        "GST = .05\n",
        "HST = .13\n",
        "PST = .06\n",
        "\n",
        "# Ask the user for their order total\n",
        "total_order = float(input(\"Please enter your total order: \"))\n",
        "\n",
        "# Ask the user what country they are from\n",
        "country = (input(\"Please enter what country you are from: \")).lower()\n",
        "\n",
        "#Defining the conditions\n",
        "if country == \"canada\":\n",
        "  province = (input(\"Please enter your province: \")).lower()\n",
        "  if province == \"alberta\":\n",
        "    total_order = total_order + total_order*GST\n",
        "  elif province == \"ontario\" or \"new brunswick\" or \"novia scotia\":\n",
        "    total_order = total_order + total_order*HST\n",
        "  else:\n",
        "    total_order = total_order + total_order*(PST + GST)\n",
        "\n",
        "#diaplay the result\n",
        "print(\"Your total order amount including tax is: $%.2f\" %total_order)\n",
        "\n",
        "\n"
      ]
    }
  ]
}